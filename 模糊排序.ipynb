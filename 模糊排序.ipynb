{
 "cells": [
  {
   "cell_type": "code",
   "execution_count": 32,
   "metadata": {
    "collapsed": true
   },
   "outputs": [],
   "source": [
    "import numpy as np\n",
    "import itertools\n",
    "import random\n",
    "import copy\n",
    "import matplotlib\n",
    "import matplotlib.pyplot as plt\n",
    "%matplotlib inline"
   ]
  },
  {
   "cell_type": "code",
   "execution_count": 24,
   "metadata": {
    "collapsed": true
   },
   "outputs": [],
   "source": [
    "a = [item for item in range(0,20,1)]"
   ]
  },
  {
   "cell_type": "code",
   "execution_count": 22,
   "metadata": {},
   "outputs": [
    {
     "name": "stdout",
     "output_type": "stream",
     "text": [
      "8 5 11\n",
      "挑选的位置 8 10\n",
      "变化后 [1, 2, 3, 4, 5, 6, 7, 8, 11, 10, 9, 12, 13, 14, 15, 16, 17, 18, 19]\n",
      "12 9 15\n",
      "挑选的位置 12 13\n",
      "变化后 [1, 2, 3, 4, 5, 6, 7, 8, 11, 10, 9, 12, 14, 13, 15, 16, 17, 18, 19]\n",
      "2 0 5\n",
      "挑选的位置 2 4\n",
      "变化后 [1, 2, 5, 4, 3, 6, 7, 8, 11, 10, 9, 12, 14, 13, 15, 16, 17, 18, 19]\n",
      "18 15 18\n",
      "挑选的位置 18 16\n",
      "变化后 [1, 2, 5, 4, 3, 6, 7, 8, 11, 10, 9, 12, 14, 13, 15, 16, 19, 18, 17]\n",
      "4 1 7\n",
      "挑选的位置 4 7\n",
      "变化后 [1, 2, 5, 4, 8, 6, 7, 3, 11, 10, 9, 12, 14, 13, 15, 16, 19, 18, 17]\n"
     ]
    }
   ],
   "source": [
    "maxGap = 3\n",
    "disturbNum = 5\n",
    "for i in range(disturbNum):\n",
    "    # 随机选择一个位置\n",
    "    pos1 = random.randint(0, len(a))\n",
    "    # 找到该位置前后disturbNum个位置的范围\n",
    "    if pos1 - maxGap >= 0:\n",
    "        leftBound  = (pos1 - maxGap)\n",
    "    else:\n",
    "        leftBound = 0\n",
    "    if pos1 + maxGap <= len(a) - 1:\n",
    "        rightBound = pos1 + maxGap\n",
    "    else:\n",
    "        rightBound = len(a) -1\n",
    "    \n",
    "    print(pos1, leftBound, rightBound)\n",
    "    # 随机选择上述范围内与pos1不同的另一个位置\n",
    "    pos2 = random.randint(leftBound, rightBound)\n",
    "    while pos2 == pos1:\n",
    "        pos2 = random.randint(leftBound, rightBound)\n",
    "    print('挑选的位置', pos1, pos2)\n",
    "    a[pos1], a[pos2] = a[pos2], a[pos1]\n",
    "    print('变化后', a)"
   ]
  },
  {
   "cell_type": "code",
   "execution_count": 16,
   "metadata": {},
   "outputs": [
    {
     "data": {
      "text/plain": [
       "10"
      ]
     },
     "execution_count": 16,
     "metadata": {},
     "output_type": "execute_result"
    }
   ],
   "source": [
    "random.randint(-1, len(a))"
   ]
  },
  {
   "cell_type": "code",
   "execution_count": 12,
   "metadata": {},
   "outputs": [
    {
     "data": {
      "text/plain": [
       "18"
      ]
     },
     "execution_count": 12,
     "metadata": {},
     "output_type": "execute_result"
    }
   ],
   "source": [
    "-2%20"
   ]
  },
  {
   "cell_type": "code",
   "execution_count": 26,
   "metadata": {
    "collapsed": true
   },
   "outputs": [],
   "source": [
    "def disturbList(lst, disturbNum, maxGap):\n",
    "    \"\"\"\n",
    "    功能：\n",
    "    把输入的列表lst稍微打乱\n",
    "    \n",
    "    输入：\n",
    "    lst           输入的列表\n",
    "    disturbNum    打乱的次数，每次打乱都是近距离的swap\n",
    "    maxGap        swap的两点最远的距离\n",
    "    \n",
    "    输出：\n",
    "    templst       打乱后的列表\n",
    "    \n",
    "    注意：\n",
    "    本函数对于输入列表不做改动，是在输入列表的副本上改动\n",
    "    \"\"\"\n",
    "    templst = copy.deepcopy(lst)\n",
    "    for i in range(disturbNum):\n",
    "        # 随机选择一个位置\n",
    "        pos1 = random.randint(0, len(templst))\n",
    "        # 找到该位置前后disturbNum个位置的范围\n",
    "        if pos1 - maxGap >= 0:\n",
    "            leftBound  = (pos1 - maxGap)\n",
    "        else:\n",
    "            leftBound = 0\n",
    "        if pos1 + maxGap <= len(templst) - 1:\n",
    "            rightBound = pos1 + maxGap\n",
    "        else:\n",
    "            rightBound = len(templst) -1\n",
    "        # 随机选择上述范围内与pos1不同的另一个位置\n",
    "        pos2 = random.randint(leftBound, rightBound)\n",
    "        # swap\n",
    "        while pos2 == pos1:\n",
    "            pos2 = random.randint(leftBound, rightBound)\n",
    "        templst[pos1], templst[pos2] = templst[pos2], templst[pos1]\n",
    "    return templst"
   ]
  },
  {
   "cell_type": "code",
   "execution_count": 31,
   "metadata": {},
   "outputs": [
    {
     "data": {
      "text/plain": [
       "[2, 1, 3, 0, 4, 5, 8, 7, 6, 11, 10, 9, 12, 13, 14, 15, 16, 18, 17, 19]"
      ]
     },
     "execution_count": 31,
     "metadata": {},
     "output_type": "execute_result"
    }
   ],
   "source": [
    "disturbList(a, 5, 3)"
   ]
  },
  {
   "cell_type": "code",
   "execution_count": null,
   "metadata": {
    "collapsed": true
   },
   "outputs": [],
   "source": [
    "df = pd.read_csv(PATH+\"\\\\\"+fromFilename, header=None, names=[\"Machine\", \"Start\", \"Finish\",\"Title\"])"
   ]
  },
  {
   "cell_type": "code",
   "execution_count": 34,
   "metadata": {},
   "outputs": [],
   "source": [
    "lst=np.array([389, 385, 392, 378, 385, 381, 391, 385, 382, 389, 392, 384, 378, 390, 383, 385, 385, 378, 390, 388])"
   ]
  },
  {
   "cell_type": "code",
   "execution_count": 37,
   "metadata": {},
   "outputs": [
    {
     "data": {
      "text/plain": [
       "4.4553338819890929"
      ]
     },
     "execution_count": 37,
     "metadata": {},
     "output_type": "execute_result"
    }
   ],
   "source": [
    "lst.std(0)"
   ]
  },
  {
   "cell_type": "code",
   "execution_count": 36,
   "metadata": {},
   "outputs": [
    {
     "data": {
      "text/plain": [
       "378"
      ]
     },
     "execution_count": 36,
     "metadata": {},
     "output_type": "execute_result"
    }
   ],
   "source": [
    "lst.min(0)"
   ]
  },
  {
   "cell_type": "code",
   "execution_count": null,
   "metadata": {
    "collapsed": true
   },
   "outputs": [],
   "source": []
  }
 ],
 "metadata": {
  "kernelspec": {
   "display_name": "Python 3",
   "language": "python",
   "name": "python3"
  },
  "language_info": {
   "codemirror_mode": {
    "name": "ipython",
    "version": 3
   },
   "file_extension": ".py",
   "mimetype": "text/x-python",
   "name": "python",
   "nbconvert_exporter": "python",
   "pygments_lexer": "ipython3",
   "version": "3.6.3"
  }
 },
 "nbformat": 4,
 "nbformat_minor": 2
}
