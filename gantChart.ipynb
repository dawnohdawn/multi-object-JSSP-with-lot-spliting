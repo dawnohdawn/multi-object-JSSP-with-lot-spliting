{
 "cells": [
  {
   "cell_type": "code",
   "execution_count": 1,
   "metadata": {
    "collapsed": true
   },
   "outputs": [],
   "source": [
    "import pandas as pd\n",
    "import io\n",
    "import matplotlib.pyplot as plt"
   ]
  },
  {
   "cell_type": "code",
   "execution_count": 4,
   "metadata": {
    "collapsed": true,
    "scrolled": true
   },
   "outputs": [],
   "source": [
    "def drawGantChart(fromFilename = 'gantData.csv', toFilename = 'gantFig.png'):\n",
    "    \"\"\"\n",
    "    使用甘特图时间表绘制甘特图\n",
    "    fromFilename  时间表csv文件名\n",
    "    toFilename    甘特图文件名\n",
    "    如果想改变颜色，颜色名参考：https://matplotlib.org/users/colors.html\n",
    "    \"\"\"\n",
    "    plt.rcParams['font.sans-serif']=['SimHei'] # 用来正常显示中文标签  \n",
    "    plt.rcParams['axes.unicode_minus']=False # 用来正常显示负号  \n",
    "\n",
    "    height=16 # 柱体高度，设为2的整数倍，方便Y轴label居中，如果设的过大，柱体间的间距就看不到了，需要修改下面间隔为更大的值\n",
    "    interval=4 # 柱体间的间隔\n",
    "    # colors = (\"turquoise\",\"crimson\",\"black\",\"red\",\"yellow\",\"green\",\"brown\",\"blue\") # 颜色，不够再加\n",
    "    colors = (\"wheat\",\"tan\",\"lavender\",\"lightblue\",\"silver\",\"pink\") # 颜色，不够再加\n",
    "    # colors = (\"ivory\",\"ivory\",\"ivory\",\"ivory\",\"ivory\",\"ivory\") # 颜色，不够再加\n",
    "    x_label=u\"调度时刻\" # 设置x轴label\n",
    "\n",
    "    # df = pd.read_csv(io.StringIO(data), header=None, names=[\"Machine\", \"Start\", \"Finish\",\"Title\"] )\n",
    "    df = pd.read_csv(fromFilename, header=None, names=[\"Machine\", \"Start\", \"Finish\",\"Title\"])\n",
    "    df[\"Diff\"] = df.Finish - df.Start\n",
    "    fig,ax=plt.subplots(figsize=(30,10))\n",
    "    labels=[]\n",
    "    count=0;\n",
    "    for i,machine in enumerate(df.groupby(\"Machine\")):\n",
    "        labels.append(machine[0])\n",
    "        data=machine[1]\n",
    "        for index,row in data.iterrows():\n",
    "    #         ax.broken_barh([(row[\"Start\"],row[\"Diff\"])], ((height+interval)*i+interval,height), facecolors=colors[i], edgecolor='brown')\n",
    "    #         ax.broken_barh([(row[\"Start\"],row[\"Diff\"])], ((height+interval)*i+interval,height), facecolors='ivory', edgecolor='brown')\n",
    "            if(row[\"Title\"] == '*'):\n",
    "                ax.broken_barh([(row[\"Start\"],row[\"Diff\"])], ((height+interval)*i+interval,height), facecolors='navy', edgecolor='brown')\n",
    "            else:\n",
    "#                 ax.broken_barh([(row[\"Start\"],row[\"Diff\"])], ((height+interval)*i+interval,height), facecolors=colors[int(row['Title'][0])], edgecolor='brown')\n",
    "                ax.broken_barh([(row[\"Start\"],row[\"Diff\"])], ((height+interval)*i+interval,height), facecolors=colors[int(row['Title'].split('-')[0])], edgecolor='brown')  # 使显示的lot号、sublot号、机器号都能适用于一位数以上的\n",
    "#             plt.text(row[\"Start\"], (height+interval)*(i+1),row['Title'],fontsize=10)  # fontsize='x-small'\n",
    "            plt.text(row[\"Start\"], (height+interval)*(i+1)-height/2,row['Title'],fontsize=10)  # fontsize='x-small'\n",
    "            if(row[\"Finish\"] > count):\n",
    "                count = row[\"Finish\"]\n",
    "    ax.set_ylim(0, (height+interval)*len(labels)+interval)\n",
    "    ax.set_xlim(0, count+2)\n",
    "    ax.set_xlabel(x_label)\n",
    "    ax.set_yticks(range(int(interval+height/2),(height+interval)*len(labels),(height+interval)))\n",
    "    ax.set_yticklabels(labels)\n",
    "    # ax.grid(True) # 显示网格\n",
    "    ax.xaxis.grid(True) # 只显示x轴网格\n",
    "    # ax.yaxis.grid(True) # 只显示y轴网格\n",
    "    plt.savefig(toFilename,dpi=160)\n",
    "    plt.show()\n"
   ]
  },
  {
   "cell_type": "code",
   "execution_count": 5,
   "metadata": {
    "scrolled": true
   },
   "outputs": [
    {
     "data": {
      "image/png": "[encoded data removed]",
      "text/plain": [
       "<matplotlib.figure.Figure at 0xec06fd5b38>"
      ]
     },
     "metadata": {},
     "output_type": "display_data"
    }
   ],
   "source": [
    "drawGantChart()"
   ]
  },
  {
   "cell_type": "code",
   "execution_count": 72,
   "metadata": {},
   "outputs": [
    {
     "name": "stdout",
     "output_type": "stream",
     "text": [
      "Interactive namespace is empty.\n"
     ]
    }
   ],
   "source": [
    "%who"
   ]
  },
  {
   "cell_type": "code",
   "execution_count": 71,
   "metadata": {},
   "outputs": [
    {
     "name": "stdout",
     "output_type": "stream",
     "text": [
      "Once deleted, variables cannot be recovered. Proceed (y/[n])? y\n"
     ]
    }
   ],
   "source": [
    "%reset"
   ]
  },
  {
   "cell_type": "code",
   "execution_count": 79,
   "metadata": {},
   "outputs": [
    {
     "name": "stdout",
     "output_type": "stream",
     "text": [
      "Variable        Type        Data/Info\n",
      "-------------------------------------\n",
      "drawGantChart   function    <function drawGantChart at 0x0000000B412F2E18>\n",
      "io              module      <module 'io' from 'D:\\\\TY<...>onda3_setup\\\\lib\\\\io.py'>\n",
      "pd              module      <module 'pandas' from 'D:<...>es\\\\pandas\\\\__init__.py'>\n",
      "plt             module      <module 'matplotlib.pyplo<...>\\\\matplotlib\\\\pyplot.py'>\n"
     ]
    }
   ],
   "source": [
    "%whos"
   ]
  },
  {
   "cell_type": "code",
   "execution_count": 80,
   "metadata": {
    "collapsed": true
   },
   "outputs": [],
   "source": [
    "drawGantChart?"
   ]
  },
  {
   "cell_type": "code",
   "execution_count": null,
   "metadata": {
    "collapsed": true
   },
   "outputs": [],
   "source": []
  }
 ],
 "metadata": {
  "kernelspec": {
   "display_name": "Python 3",
   "language": "python",
   "name": "python3"
  },
  "language_info": {
   "codemirror_mode": {
    "name": "ipython",
    "version": 3
   },
   "file_extension": ".py",
   "mimetype": "text/x-python",
   "name": "python",
   "nbconvert_exporter": "python",
   "pygments_lexer": "ipython3",
   "version": "3.6.3"
  }
 },
 "nbformat": 4,
 "nbformat_minor": 2
}
