{
 "cells": [
  {
   "cell_type": "code",
   "execution_count": 143,
   "metadata": {
    "collapsed": true
   },
   "outputs": [],
   "source": [
    "import numpy as np\n",
    "import itertools\n",
    "import random"
   ]
  },
  {
   "cell_type": "code",
   "execution_count": 34,
   "metadata": {
    "collapsed": true
   },
   "outputs": [],
   "source": []
  },
  {
   "cell_type": "code",
   "execution_count": 84,
   "metadata": {
    "collapsed": true
   },
   "outputs": [],
   "source": [
    "def combinationSum(candidates, target):\n",
    "    \"\"\"\n",
    "    功能：\n",
    "    穷举一个lot的所有分批可能\n",
    "    \n",
    "    输入：\n",
    "    candidates        可选的sublot siez\n",
    "    target            lot size\n",
    "    \n",
    "    输出：\n",
    "    一个元素为list的list，例如[[8],\n",
    "    \n",
    "    应用示范：\n",
    "    combinationSum([item for item in range(1, lotSize + 1, 1)], lotSize)\n",
    "    \"\"\"\n",
    "    candidates, res, stack, lenth=sorted(set(candidates)), [], [(0, [], target)], len(candidates)\n",
    "    while stack:\n",
    "        i, temp, tar=stack.pop()\n",
    "        while i<lenth and tar>0:\n",
    "            if candidates[i]==tar: res+=temp+[candidates[i]],\n",
    "            stack+=(i, temp+[candidates[i]], tar-candidates[i]),\n",
    "            i+=1\n",
    "    return res\n",
    "\n",
    "# 设置一些参数\n",
    "lotSize = 8\n",
    "if lotSize > 100:\n",
    "    maxLen = 2 * int(np.sqrt(100))\n",
    "else:\n",
    "    maxLen = 2 * int(np.sqrt(lotSize))\n",
    "lotNum = 4\n",
    "\n",
    "# S1穷举结果\n",
    "coarseGrainS1 = [item for item in combinationSum([item for item in range(1, lotSize + 1, 1)], lotSize) if len(item) <= maxLen]\n",
    "\n",
    "# S2穷举结果\n",
    "coarseGrainS2 = [list(item) for item in itertools.permutations([item for item in range(0, lotNum , 1)], lotNum)]"
   ]
  },
  {
   "cell_type": "code",
   "execution_count": 142,
   "metadata": {},
   "outputs": [
    {
     "name": "stdout",
     "output_type": "stream",
     "text": [
      "6\n",
      "22\n",
      "8\n",
      "0\n",
      "[1, 3, 4]\n",
      "[0, 1, 2, 3]\n"
     ]
    }
   ],
   "source": [
    "S1 = [2, 2, 2, 2]\n",
    "S2 = [3, 2, 0, 1]\n",
    "\n",
    "# 设置邻域搜索范围\n",
    "neighbourRngeS1 = 2\n",
    "neighbourRngeS2 = 2\n",
    "\n",
    "# 得到邻域内随机一个个体\n",
    "neighbourIndexS1 = (coarseGrainS1.index(S1) + random.randint(-neighbourRngeS1, neighbourRngeS1)) % len(coarseGrainS1)\n",
    "neighbourIndexS2 = (coarseGrainS2.index(S2) + random.randint(-neighbourRngeS2, neighbourRngeS2)) % len(coarseGrainS2)\n",
    "\n",
    "print(coarseGrainS1.index(S1))\n",
    "print(coarseGrainS2.index(S2))\n",
    "\n",
    "print(neighbourIndexS1)\n",
    "print(neighbourIndexS2)\n",
    "\n",
    "print(coarseGrainS1[neighbourIndexS1])\n",
    "print(coarseGrainS2[neighbourIndexS2])"
   ]
  },
  {
   "cell_type": "code",
   "execution_count": null,
   "metadata": {
    "collapsed": true
   },
   "outputs": [],
   "source": [
    "[[[8], [4, 4], [3, 5], [2, 6], [2, 3, 3], [2, 2, 4], [2, 2, 2, 2], [1, 7], [1, 3, 4], [1, 2, 5], [1, 2, 2, 3], [1, 1, 6], [1, 1, 3, 3], [1, 1, 2, 4], [1, 1, 1, 5]], [[8], [4, 4], [3, 5], [2, 6], [2, 3, 3], [2, 2, 4], [2, 2, 2, 2], [1, 7], [1, 3, 4], [1, 2, 5], [1, 2, 2, 3], [1, 1, 6], [1, 1, 3, 3], [1, 1, 2, 4], [1, 1, 1, 5]], [[8], [4, 4], [3, 5], [2, 6], [2, 3, 3], [2, 2, 4], [2, 2, 2, 2], [1, 7], [1, 3, 4], [1, 2, 5], [1, 2, 2, 3], [1, 1, 6], [1, 1, 3, 3], [1, 1, 2, 4], [1, 1, 1, 5]], [[8], [4, 4], [3, 5], [2, 6], [2, 3, 3], [2, 2, 4], [2, 2, 2, 2], [1, 7], [1, 3, 4], [1, 2, 5], [1, 2, 2, 3], [1, 1, 6], [1, 1, 3, 3], [1, 1, 2, 4], [1, 1, 1, 5]]]\n"
   ]
  },
  {
   "cell_type": "code",
   "execution_count": 157,
   "metadata": {},
   "outputs": [
    {
     "data": {
      "text/plain": [
       "[[8],\n",
       " [4, 4],\n",
       " [3, 5],\n",
       " [2, 6],\n",
       " [2, 3, 3],\n",
       " [2, 2, 4],\n",
       " [2, 2, 2, 2],\n",
       " [1, 7],\n",
       " [1, 3, 4],\n",
       " [1, 2, 5],\n",
       " [1, 2, 2, 3],\n",
       " [1, 1, 6],\n",
       " [1, 1, 3, 3],\n",
       " [1, 1, 2, 4],\n",
       " [1, 1, 1, 5]]"
      ]
     },
     "execution_count": 157,
     "metadata": {},
     "output_type": "execute_result"
    }
   ],
   "source": [
    "[sorted(item) for item in coarseGrainS1]"
   ]
  },
  {
   "cell_type": "code",
   "execution_count": 164,
   "metadata": {},
   "outputs": [
    {
     "data": {
      "text/plain": [
       "3"
      ]
     },
     "execution_count": 164,
     "metadata": {},
     "output_type": "execute_result"
    }
   ],
   "source": [
    "import math\n",
    "round(24*0.13)"
   ]
  },
  {
   "cell_type": "code",
   "execution_count": 86,
   "metadata": {},
   "outputs": [
    {
     "data": {
      "text/plain": [
       "15"
      ]
     },
     "execution_count": 86,
     "metadata": {},
     "output_type": "execute_result"
    }
   ],
   "source": [
    "len(coarseGrainS1)"
   ]
  },
  {
   "cell_type": "code",
   "execution_count": null,
   "metadata": {
    "collapsed": true
   },
   "outputs": [],
   "source": [
    "[[0, 1, 2, 3], [0, 1, 3, 2], [0, 2, 1, 3], [0, 2, 3, 1], [0, 3, 1, 2], [0, 3, 2, 1], [1, 0, 2, 3], [1, 0, 3, 2], [1, 2, 0, 3], [1, 2, 3, 0], [1, 3, 0, 2], [1, 3, 2, 0], [2, 0, 1, 3], [2, 0, 3, 1], [2, 1, 0, 3], [2, 1, 3, 0], [2, 3, 0, 1], [2, 3, 1, 0], [3, 0, 1, 2], [3, 0, 2, 1], [3, 1, 0, 2], [3, 1, 2, 0], [3, 2, 0, 1], [3, 2, 1, 0]]"
   ]
  },
  {
   "cell_type": "code",
   "execution_count": 88,
   "metadata": {},
   "outputs": [
    {
     "data": {
      "text/plain": [
       "[[0, 1, 2, 3],\n",
       " [0, 1, 3, 2],\n",
       " [0, 2, 1, 3],\n",
       " [0, 2, 3, 1],\n",
       " [0, 3, 1, 2],\n",
       " [0, 3, 2, 1],\n",
       " [1, 0, 2, 3],\n",
       " [1, 0, 3, 2],\n",
       " [1, 2, 0, 3],\n",
       " [1, 2, 3, 0],\n",
       " [1, 3, 0, 2],\n",
       " [1, 3, 2, 0],\n",
       " [2, 0, 1, 3],\n",
       " [2, 0, 3, 1],\n",
       " [2, 1, 0, 3],\n",
       " [2, 1, 3, 0],\n",
       " [2, 3, 0, 1],\n",
       " [2, 3, 1, 0],\n",
       " [3, 0, 1, 2],\n",
       " [3, 0, 2, 1],\n",
       " [3, 1, 0, 2],\n",
       " [3, 1, 2, 0],\n",
       " [3, 2, 0, 1],\n",
       " [3, 2, 1, 0]]"
      ]
     },
     "execution_count": 88,
     "metadata": {},
     "output_type": "execute_result"
    }
   ],
   "source": [
    "coarseGrainS2"
   ]
  },
  {
   "cell_type": "code",
   "execution_count": 89,
   "metadata": {},
   "outputs": [
    {
     "data": {
      "text/plain": [
       "24"
      ]
     },
     "execution_count": 89,
     "metadata": {},
     "output_type": "execute_result"
    }
   ],
   "source": [
    "len(coarseGrainS2)"
   ]
  },
  {
   "cell_type": "code",
   "execution_count": 65,
   "metadata": {
    "collapsed": true
   },
   "outputs": [],
   "source": []
  },
  {
   "cell_type": "code",
   "execution_count": 140,
   "metadata": {},
   "outputs": [
    {
     "name": "stdout",
     "output_type": "stream",
     "text": [
      "6\n",
      "22\n",
      "5\n",
      "20\n"
     ]
    }
   ],
   "source": []
  },
  {
   "cell_type": "code",
   "execution_count": 151,
   "metadata": {
    "collapsed": true
   },
   "outputs": [],
   "source": [
    "a=[1, 4, 2, 1]"
   ]
  },
  {
   "cell_type": "code",
   "execution_count": 152,
   "metadata": {},
   "outputs": [
    {
     "data": {
      "text/plain": [
       "[1, 1, 2, 4]"
      ]
     },
     "execution_count": 152,
     "metadata": {},
     "output_type": "execute_result"
    }
   ],
   "source": [
    "sorted(a)"
   ]
  },
  {
   "cell_type": "code",
   "execution_count": 153,
   "metadata": {},
   "outputs": [
    {
     "data": {
      "text/plain": [
       "[1, 4, 2, 1]"
      ]
     },
     "execution_count": 153,
     "metadata": {},
     "output_type": "execute_result"
    }
   ],
   "source": []
  },
  {
   "cell_type": "code",
   "execution_count": 154,
   "metadata": {
    "collapsed": true
   },
   "outputs": [],
   "source": [
    "a.sort()"
   ]
  },
  {
   "cell_type": "code",
   "execution_count": 155,
   "metadata": {},
   "outputs": [
    {
     "data": {
      "text/plain": [
       "[1, 1, 2, 4]"
      ]
     },
     "execution_count": 155,
     "metadata": {},
     "output_type": "execute_result"
    }
   ],
   "source": [
    "a"
   ]
  },
  {
   "cell_type": "code",
   "execution_count": null,
   "metadata": {
    "collapsed": true
   },
   "outputs": [],
   "source": []
  }
 ],
 "metadata": {
  "kernelspec": {
   "display_name": "Python 3",
   "language": "python",
   "name": "python3"
  },
  "language_info": {
   "codemirror_mode": {
    "name": "ipython",
    "version": 3
   },
   "file_extension": ".py",
   "mimetype": "text/x-python",
   "name": "python",
   "nbconvert_exporter": "python",
   "pygments_lexer": "ipython3",
   "version": "3.6.3"
  }
 },
 "nbformat": 4,
 "nbformat_minor": 2
}
