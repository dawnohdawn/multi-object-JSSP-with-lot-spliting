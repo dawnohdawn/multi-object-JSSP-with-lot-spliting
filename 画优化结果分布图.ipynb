{
 "cells": [
  {
   "cell_type": "code",
   "execution_count": 84,
   "metadata": {},
   "outputs": [],
   "source": [
    "import pandas as pd\n",
    "import os\n",
    "import matplotlib.pyplot as plt\n",
    "%matplotlib inline\n",
    "import numpy as np\n",
    "import seaborn as sns\n",
    "\n",
    "\n",
    "PATH = os.path.abspath('.') "
   ]
  },
  {
   "cell_type": "code",
   "execution_count": null,
   "metadata": {
    "collapsed": true
   },
   "outputs": [],
   "source": []
  },
  {
   "cell_type": "code",
   "execution_count": 101,
   "metadata": {
    "collapsed": true
   },
   "outputs": [],
   "source": [
    "data = pd.read_csv(PATH+\"\\\\boxplotdata.csv\", header=0)\n",
    "# data.boxplot(figsize=(6,3), fontsize=10)"
   ]
  },
  {
   "cell_type": "code",
   "execution_count": 102,
   "metadata": {},
   "outputs": [
    {
     "data": {
      "text/plain": [
       "<matplotlib.axes._subplots.AxesSubplot at 0xdbc47aae80>"
      ]
     },
     "execution_count": 102,
     "metadata": {},
     "output_type": "execute_result"
    },
    {
     "data": {
      "image/png": "[encoded data removed]",
      "text/plain": [
       "<matplotlib.figure.Figure at 0xdbc5aafdd8>"
      ]
     },
     "metadata": {},
     "output_type": "display_data"
    }
   ],
   "source": [
    "data.boxplot()"
   ]
  },
  {
   "cell_type": "code",
   "execution_count": 106,
   "metadata": {},
   "outputs": [],
   "source": [
    "data.boxplot?"
   ]
  },
  {
   "cell_type": "code",
   "execution_count": 104,
   "metadata": {},
   "outputs": [
    {
     "data": {
      "image/png": "[encoded data removed]",
      "text/plain": [
       "<matplotlib.figure.Figure at 0xdbc5dbcdd8>"
      ]
     },
     "metadata": {},
     "output_type": "display_data"
    }
   ],
   "source": [
    "\n",
    "def list_generator(number, min, max):\n",
    "    dataList = list()\n",
    "    for i in range(1, number):\n",
    "        dataList.append(np.random.randint(min, max))\n",
    "    return dataList\n",
    "\n",
    "\n",
    "list1 = list_generator(100, 20, 80)\n",
    "list2 = list_generator(100, 20, 50)\n",
    "list3 = list_generator(100, 50, 100)\n",
    "list4 = list_generator(100, 5, 60)\n",
    " \n",
    "data = pd.DataFrame({\n",
    "    \"dataSet1\":list1,\n",
    "    \"dataSet2\":list2,\n",
    "    \"dataSet3\":list3,\n",
    "    \"dataSet4\":list4,\n",
    "})\n",
    " \n",
    "#draw\n",
    "data.boxplot()\n",
    "plt.ylabel(\"ylabel\")\n",
    "plt.xlabel(\"different datasets\")\n",
    "plt.show()\n",
    "\n"
   ]
  },
  {
   "cell_type": "code",
   "execution_count": 110,
   "metadata": {
    "collapsed": true
   },
   "outputs": [],
   "source": [
    "import numpy as np\n",
    "import matplotlib.pyplot as plt\n",
    "\n",
    "# fake data\n",
    "np.random.seed(19680801)\n",
    "data = np.random.lognormal(size=(37, 4), mean=1.5, sigma=1.75)\n",
    "labels = list('ABCD')\n",
    "fs = 10  # fontsize"
   ]
  },
  {
   "cell_type": "code",
   "execution_count": 111,
   "metadata": {},
   "outputs": [
    {
     "data": {
      "text/plain": [
       "array([[  2.81144181e+01,   2.04028288e+01,   1.17574320e+01,\n",
       "          9.22162290e+01],\n",
       "       [  1.43870844e+00,   1.94015088e+00,   2.95563595e+01,\n",
       "          2.44203813e+01],\n",
       "       [  1.08724461e+00,   5.14051959e-01,   1.16187347e+02,\n",
       "          2.61284936e+00],\n",
       "       [  1.76405189e+01,   4.65371596e+00,   1.56804016e+01,\n",
       "          5.20688242e+01],\n",
       "       [  6.23049876e-01,   8.12622749e+01,   5.20228265e+01,\n",
       "          6.38200699e+00],\n",
       "       [  8.28191196e-01,   2.78833545e+01,   2.10783488e+00,\n",
       "          1.87703026e+00],\n",
       "       [  4.04121150e+00,   6.37272350e-01,   5.23485407e-01,\n",
       "          3.79973282e-01],\n",
       "       [  4.44340426e+01,   1.81208184e+00,   4.35292599e+00,\n",
       "          1.01863790e+01],\n",
       "       [  1.74503842e+01,   1.65593223e-01,   3.58486984e+00,\n",
       "          1.80614454e+00],\n",
       "       [  1.62241461e+01,   4.73226866e+01,   1.17393488e+01,\n",
       "          3.00164501e+00],\n",
       "       [  1.42556789e+01,   1.75304659e+00,   1.92822009e+00,\n",
       "          7.74669449e+00],\n",
       "       [  1.90018787e-02,   4.15889878e-01,   3.49168050e+00,\n",
       "          3.06563701e+00],\n",
       "       [  4.23118034e+00,   1.10636848e+02,   8.30310650e+00,\n",
       "          6.78102983e+00],\n",
       "       [  5.95882921e+01,   6.80359673e+01,   6.41744064e-01,\n",
       "          1.89467040e+01],\n",
       "       [  1.43569006e+01,   1.56557957e+01,   5.20025545e-01,\n",
       "          1.75379767e+02],\n",
       "       [  1.55950101e+00,   7.54686890e+01,   2.87349170e+00,\n",
       "          3.15755262e-01],\n",
       "       [  3.65046145e+00,   1.06653442e+01,   1.31057506e+00,\n",
       "          8.94747784e+00],\n",
       "       [  6.27671533e-01,   2.22635166e-01,   2.78867339e+00,\n",
       "          5.21177919e+00],\n",
       "       [  6.64763079e-01,   5.45727878e+00,   8.44612095e-01,\n",
       "          4.89341581e+00],\n",
       "       [  1.92412043e+00,   4.62624573e+01,   1.03846540e+01,\n",
       "          1.20680738e+00],\n",
       "       [  4.44253923e-01,   8.01572550e+00,   2.81070517e+00,\n",
       "          1.36447324e+01],\n",
       "       [  6.33147699e-01,   7.12032959e+00,   5.27434221e+00,\n",
       "          5.52475242e-01],\n",
       "       [  9.29485892e-01,   4.13942024e+00,   1.57610519e+00,\n",
       "          4.60587894e+00],\n",
       "       [  1.54871902e+00,   1.58386230e+01,   1.00995002e+01,\n",
       "          1.90387996e+01],\n",
       "       [  5.27390491e+00,   8.55208216e-02,   2.53750493e+01,\n",
       "          4.82305485e-01],\n",
       "       [  3.95130320e-01,   5.88046806e+00,   5.09840039e+00,\n",
       "          2.71400115e+01],\n",
       "       [  1.41104742e+00,   1.51736673e+00,   3.21655259e+00,\n",
       "          1.72364050e+00],\n",
       "       [  7.71042714e+01,   3.74546176e+00,   3.66958346e-01,\n",
       "          2.07370150e+01],\n",
       "       [  3.43650971e+00,   2.34562999e+00,   4.59271494e+00,\n",
       "          3.88483701e+00],\n",
       "       [  3.03208427e+01,   1.12866365e+01,   9.44372506e+01,\n",
       "          1.72276777e+00],\n",
       "       [  8.14829599e+01,   1.45683656e+01,   3.86327782e+00,\n",
       "          2.48650345e-01],\n",
       "       [  1.38216545e+01,   9.04768832e-01,   8.26712742e+00,\n",
       "          5.32095789e+00],\n",
       "       [  2.24262664e+01,   9.28531521e+00,   1.49471798e+01,\n",
       "          4.23235639e+00],\n",
       "       [  1.15820083e+01,   4.43574817e+00,   4.13518122e-01,\n",
       "          2.57142515e+00],\n",
       "       [  7.63950136e-02,   2.08889454e+01,   1.34928136e+00,\n",
       "          5.54378962e-01],\n",
       "       [  5.29756752e-01,   1.01066055e+00,   1.45711722e+01,\n",
       "          1.36359881e+01],\n",
       "       [  1.93314071e+01,   6.16253123e+00,   3.87259066e+01,\n",
       "          7.83116995e-01]])"
      ]
     },
     "execution_count": 111,
     "metadata": {},
     "output_type": "execute_result"
    }
   ],
   "source": [
    "data"
   ]
  },
  {
   "cell_type": "code",
   "execution_count": 116,
   "metadata": {},
   "outputs": [
    {
     "data": {
      "text/plain": [
       "{'boxes': [<matplotlib.lines.Line2D at 0xdbc5f9cc18>,\n",
       "  <matplotlib.lines.Line2D at 0xdbc5f850b8>,\n",
       "  <matplotlib.lines.Line2D at 0xdbc5fafe80>,\n",
       "  <matplotlib.lines.Line2D at 0xdbc5e29198>],\n",
       " 'caps': [<matplotlib.lines.Line2D at 0xdbc60b7e48>,\n",
       "  <matplotlib.lines.Line2D at 0xdbc5f8f438>,\n",
       "  <matplotlib.lines.Line2D at 0xdbc600df60>,\n",
       "  <matplotlib.lines.Line2D at 0xdbc5ed02e8>,\n",
       "  <matplotlib.lines.Line2D at 0xdbc5dbf710>,\n",
       "  <matplotlib.lines.Line2D at 0xdbc5dbfda0>,\n",
       "  <matplotlib.lines.Line2D at 0xdbc5de6cf8>,\n",
       "  <matplotlib.lines.Line2D at 0xdbc5de65c0>],\n",
       " 'fliers': [<matplotlib.lines.Line2D at 0xdbc5f85a58>,\n",
       "  <matplotlib.lines.Line2D at 0xdbc5faf780>,\n",
       "  <matplotlib.lines.Line2D at 0xdbc5e33208>,\n",
       "  <matplotlib.lines.Line2D at 0xdbc5e38940>],\n",
       " 'means': [<matplotlib.lines.Line2D at 0xdbc5f85cf8>,\n",
       "  <matplotlib.lines.Line2D at 0xdbc5faf048>,\n",
       "  <matplotlib.lines.Line2D at 0xdbc5e339e8>,\n",
       "  <matplotlib.lines.Line2D at 0xdbc5e38278>],\n",
       " 'medians': [<matplotlib.lines.Line2D at 0xdbc5f8ffd0>,\n",
       "  <matplotlib.lines.Line2D at 0xdbc5faf438>,\n",
       "  <matplotlib.lines.Line2D at 0xdbc5e337f0>,\n",
       "  <matplotlib.lines.Line2D at 0xdbc5de6be0>],\n",
       " 'whiskers': [<matplotlib.lines.Line2D at 0xdbc5f9c908>,\n",
       "  <matplotlib.lines.Line2D at 0xdbc5f9c4e0>,\n",
       "  <matplotlib.lines.Line2D at 0xdbc5f55eb8>,\n",
       "  <matplotlib.lines.Line2D at 0xdbc600d7b8>,\n",
       "  <matplotlib.lines.Line2D at 0xdbc5ec9518>,\n",
       "  <matplotlib.lines.Line2D at 0xdbc5dbf198>,\n",
       "  <matplotlib.lines.Line2D at 0xdbc5e29400>,\n",
       "  <matplotlib.lines.Line2D at 0xdbc5e29eb8>]}"
      ]
     },
     "execution_count": 116,
     "metadata": {},
     "output_type": "execute_result"
    },
    {
     "data": {
      "image/png": "[encoded data removed]",
      "text/plain": [
       "<matplotlib.figure.Figure at 0xdbc602a438>"
      ]
     },
     "metadata": {},
     "output_type": "display_data"
    }
   ],
   "source": [
    "plt.boxplot(data, labels=labels, showmeans=True, meanline=True)\n",
    "# plt.set_title('Default', fontsize=fs)"
   ]
  },
  {
   "cell_type": "code",
   "execution_count": 99,
   "metadata": {},
   "outputs": [
    {
     "data": {
      "image/png": "[encoded data removed]",
      "text/plain": [
       "<matplotlib.figure.Figure at 0xdbc47b0908>"
      ]
     },
     "metadata": {},
     "output_type": "display_data"
    }
   ],
   "source": [
    "fig, axes = plt.subplots(nrows=2, ncols=3, figsize=(6, 6), sharey=True)\n",
    "axes[0, 0].boxplot(data, labels=labels)\n",
    "axes[0, 0].set_title('Default', fontsize=fs)\n",
    "\n",
    "axes[0, 1].boxplot(data, labels=labels, showmeans=True)\n",
    "axes[0, 1].set_title('showmeans=True', fontsize=fs)\n",
    "\n",
    "axes[0, 2].boxplot(data, labels=labels, showmeans=True, meanline=True)\n",
    "axes[0, 2].set_title('showmeans=True,\\nmeanline=True', fontsize=fs)\n",
    "\n",
    "axes[1, 0].boxplot(data, labels=labels, showbox=False, showcaps=False)\n",
    "tufte_title = 'Tufte Style \\n(showbox=False,\\nshowcaps=False)'\n",
    "axes[1, 0].set_title(tufte_title, fontsize=fs)\n",
    "\n",
    "axes[1, 1].boxplot(data, labels=labels, notch=True, bootstrap=10000)\n",
    "axes[1, 1].set_title('notch=True,\\nbootstrap=10000', fontsize=fs)\n",
    "\n",
    "axes[1, 2].boxplot(data, labels=labels, showfliers=False)\n",
    "axes[1, 2].set_title('showfliers=False', fontsize=fs)\n",
    "\n",
    "for ax in axes.flatten():\n",
    "    ax.set_yscale('log')\n",
    "    ax.set_yticklabels([])\n",
    "\n",
    "fig.subplots_adjust(hspace=0.4)\n",
    "plt.show()"
   ]
  },
  {
   "cell_type": "code",
   "execution_count": 143,
   "metadata": {},
   "outputs": [
    {
     "data": {
      "image/png": "[encoded data removed]",
      "text/plain": [
       "<matplotlib.figure.Figure at 0xdbc5ff1d30>"
      ]
     },
     "metadata": {},
     "output_type": "display_data"
    }
   ],
   "source": [
    "import numpy as np\n",
    "import matplotlib.pyplot as plt\n",
    "from matplotlib.ticker import MaxNLocator\n",
    "from collections import namedtuple\n",
    "\n",
    "\n",
    "n_groups = 2\n",
    "\n",
    "means_MBO = (86.57, 85.83)\n",
    "std_MBO = (2.03, 1.69)\n",
    "\n",
    "# means_MBONN = (86.57, 190.23, 201.27, 386.97)\n",
    "# std_MBONN = (2.03, 4.10, 4.10, 4.07)\n",
    "\n",
    "# means_algo3 = (30, 35, 40, 45)\n",
    "# std_algo3 = (2, 3, 4, 1)\n",
    "\n",
    "# means_algo4 = (20, 35, 30, 35)\n",
    "# std_algo4 = (2, 3, 4, 1)\n",
    "\n",
    "fig, ax = plt.subplots(figsize=(6,4))\n",
    "\n",
    "index = np.arange(n_groups)\n",
    "bar_width = 0.25\n",
    "\n",
    "opacity = 0.4\n",
    "error_config = {'ecolor': '0.3'}\n",
    "\n",
    "rects1 = ax.bar(index, means_MBO, bar_width,\n",
    "                alpha=opacity, color='b',\n",
    "                yerr=std_MBO, error_kw=error_config,\n",
    "                label='MBO')\n",
    "\n",
    "# rects2 = ax.bar(index + bar_width, means_MBONN, bar_width,\n",
    "#                 alpha=opacity, color='r',\n",
    "#                 yerr=std_MBONN, error_kw=error_config,\n",
    "#                 label='MBO+new neighbour')\n",
    "\n",
    "# rects3 = ax.bar(index + 2*bar_width, means_algo3, bar_width,\n",
    "#                 alpha=opacity, color='g',\n",
    "#                 yerr=std_algo3, error_kw=error_config,\n",
    "#                 label='algo3')\n",
    "\n",
    "# rects4 = ax.bar(index + 3*bar_width, means_algo4, bar_width,\n",
    "#                 alpha=opacity, color='c',\n",
    "#                 yerr=std_algo4, error_kw=error_config,\n",
    "#                 label='algo4')\n",
    "\n",
    "ax.set_xlabel('Group')\n",
    "ax.set_ylabel('Scores')\n",
    "ax.set_title('Scores by group and gender')\n",
    "ax.set_xticks(index + bar_width / 2)\n",
    "ax.set_xticklabels(('A', 'B', 'C', 'D'))\n",
    "ax.legend()\n",
    "\n",
    "fig.tight_layout()\n",
    "plt.show()"
   ]
  },
  {
   "cell_type": "code",
   "execution_count": null,
   "metadata": {
    "collapsed": true
   },
   "outputs": [],
   "source": []
  },
  {
   "cell_type": "code",
   "execution_count": null,
   "metadata": {
    "collapsed": true
   },
   "outputs": [],
   "source": []
  },
  {
   "cell_type": "code",
   "execution_count": null,
   "metadata": {
    "collapsed": true
   },
   "outputs": [],
   "source": []
  },
  {
   "cell_type": "code",
   "execution_count": null,
   "metadata": {
    "collapsed": true
   },
   "outputs": [],
   "source": []
  },
  {
   "cell_type": "code",
   "execution_count": null,
   "metadata": {
    "collapsed": true
   },
   "outputs": [],
   "source": []
  },
  {
   "cell_type": "code",
   "execution_count": null,
   "metadata": {
    "collapsed": true
   },
   "outputs": [],
   "source": []
  },
  {
   "cell_type": "code",
   "execution_count": null,
   "metadata": {
    "collapsed": true
   },
   "outputs": [],
   "source": []
  },
  {
   "cell_type": "code",
   "execution_count": null,
   "metadata": {
    "collapsed": true
   },
   "outputs": [],
   "source": []
  },
  {
   "cell_type": "code",
   "execution_count": null,
   "metadata": {
    "collapsed": true
   },
   "outputs": [],
   "source": []
  },
  {
   "cell_type": "code",
   "execution_count": 95,
   "metadata": {},
   "outputs": [
    {
     "data": {
      "image/png": "[encoded data removed]",
      "text/plain": [
       "<matplotlib.figure.Figure at 0xdbb8b74588>"
      ]
     },
     "metadata": {},
     "output_type": "display_data"
    }
   ],
   "source": [
    "# 画算子成功次数图\n",
    "\n",
    "import matplotlib.pyplot as plt\n",
    " \n",
    "name_list = ['SV1-SPN', 'SV1-CSN', 'SV1-FFN']\n",
    "num_list = [8056,8952,8297]\n",
    "\n",
    "# name_list = ['SV2-SPN', 'SV2-CSN', 'SV2-FFN']\n",
    "# num_list = [5006,5170,5008]\n",
    "\n",
    "plt.figure(figsize=(5,3))\n",
    "# rects=plt.bar(range(len(num_list)), [item/100.0 for item in num_list], color='#1f77b4', width = 0.35)\n",
    "rects=plt.bar(range(len(num_list)), [item/100.0 for item in num_list], color='#1f77b4', width = 0.45)\n",
    "# X轴标题\n",
    "index=[0,1,2]\n",
    "# index=[float(c) for c in index]\n",
    "plt.ylim(ymax=110, ymin=0)\n",
    "plt.xticks(index, name_list)\n",
    "plt.ylabel(\"Success times\") #X轴标签\n",
    "for rect in rects:\n",
    "    height = rect.get_height()\n",
    "    plt.text(rect.get_x() + rect.get_width() / 2, height, str(int(height*100)), ha='center', va='bottom')\n",
    "\n",
    "plt.savefig(PATH+\"\\\\\"+'S1邻域算子效果',dpi=160)\n",
    "# plt.show()"
   ]
  },
  {
   "cell_type": "code",
   "execution_count": null,
   "metadata": {
    "collapsed": true
   },
   "outputs": [],
   "source": []
  }
 ],
 "metadata": {
  "kernelspec": {
   "display_name": "Python 3",
   "language": "python",
   "name": "python3"
  },
  "language_info": {
   "codemirror_mode": {
    "name": "ipython",
    "version": 3
   },
   "file_extension": ".py",
   "mimetype": "text/x-python",
   "name": "python",
   "nbconvert_exporter": "python",
   "pygments_lexer": "ipython3",
   "version": "3.6.3"
  }
 },
 "nbformat": 4,
 "nbformat_minor": 2
}
