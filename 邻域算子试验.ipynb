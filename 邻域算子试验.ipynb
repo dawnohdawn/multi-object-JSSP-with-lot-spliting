{
 "cells": [
  {
   "cell_type": "code",
   "execution_count": 1,
   "metadata": {
    "collapsed": true
   },
   "outputs": [],
   "source": [
    "import random\n",
    "import pandas as pd\n",
    "import numpy as np\n",
    "import copy\n",
    "import matplotlib.pyplot as plt\n",
    "%matplotlib inline"
   ]
  },
  {
   "cell_type": "code",
   "execution_count": null,
   "metadata": {
    "collapsed": true
   },
   "outputs": [],
   "source": []
  },
  {
   "cell_type": "markdown",
   "metadata": {},
   "source": [
    "### inverse"
   ]
  },
  {
   "cell_type": "code",
   "execution_count": null,
   "metadata": {
    "collapsed": true
   },
   "outputs": [],
   "source": [
    "a = [0,1,2,3,4,5,6,7,8,9]\n",
    "a"
   ]
  },
  {
   "cell_type": "code",
   "execution_count": null,
   "metadata": {
    "collapsed": true
   },
   "outputs": [],
   "source": [
    "a[2: 6: -1]"
   ]
  },
  {
   "cell_type": "code",
   "execution_count": null,
   "metadata": {
    "collapsed": true
   },
   "outputs": [],
   "source": [
    "a[2: 6] = list(reversed(a[2: 6]))"
   ]
  },
  {
   "cell_type": "code",
   "execution_count": null,
   "metadata": {
    "collapsed": true
   },
   "outputs": [],
   "source": [
    "a"
   ]
  },
  {
   "cell_type": "code",
   "execution_count": null,
   "metadata": {
    "collapsed": true
   },
   "outputs": [],
   "source": [
    "lst = [[0, 1, 2, 3], [0, 1, 3, 2], [0, 2, 1, 3], [0, 2, 3, 1], [0, 3, 1, 2], [0, 3, 2, 1], [1, 0, 2, 3], [1, 0, 3, 2], [1, 2, 0, 3], [1, 2, 3, 0], [1, 3, 0, 2], [1, 3, 2, 0], [2, 0, 1, 3], [2, 0, 3, 1], [2, 1, 0, 3], [2, 1, 3, 0], [2, 3, 0, 1], [2, 3, 1, 0], [3, 0, 1, 2], [3, 0, 2, 1], [3, 1, 0, 2], [3, 1, 2, 0], [3, 2, 0, 1], [3, 2, 1, 0]]\n"
   ]
  },
  {
   "cell_type": "code",
   "execution_count": null,
   "metadata": {
    "collapsed": true
   },
   "outputs": [],
   "source": [
    "lst.index([0, 1, 2, 3])"
   ]
  },
  {
   "cell_type": "code",
   "execution_count": null,
   "metadata": {
    "collapsed": true
   },
   "outputs": [],
   "source": [
    "lst.index([2, 0, 1, 3])"
   ]
  },
  {
   "cell_type": "code",
   "execution_count": null,
   "metadata": {
    "collapsed": true
   },
   "outputs": [],
   "source": [
    "len(lst)"
   ]
  },
  {
   "cell_type": "code",
   "execution_count": null,
   "metadata": {
    "collapsed": true
   },
   "outputs": [],
   "source": [
    "24*0.13"
   ]
  },
  {
   "cell_type": "code",
   "execution_count": null,
   "metadata": {
    "collapsed": true
   },
   "outputs": [],
   "source": [
    "a=[[[0, 90, 94], [1, 123, 129], [1, 129, 131]], [[2, 91, 99], [1, 131, 134], [1, 134, 136]], [[0, 94, 98], [1, 136, 142], [0, 141, 144]], [[0, 98, 102], [1, 142, 148], [0, 147, 150]], [[0, 102, 108], [1, 148, 157], [0, 156, 160]], [[0, 108, 118], [1, 157, 172], [1, 172, 182]], [[0, 118, 130], [3, 161, 175], [0, 174, 181]]]"
   ]
  },
  {
   "cell_type": "code",
   "execution_count": null,
   "metadata": {
    "collapsed": true
   },
   "outputs": [],
   "source": [
    "b=[[[0, 90, 94], [1, 123, 129], [1, 129, 131]], [[2, 91, 99], [1, 131, 134], [1, 134, 136]], [[0, 94, 98], [1, 136, 142], [0, 141, 144]], [[0, 98, 102], [1, 142, 148], [0, 147, 150]], [[0, 102, 108], [1, 148, 157], [0, 156, 160]], [[0, 108, 118], [1, 157, 172], [1, 172, 182]], [[0, 127, 141], [3, 161, 175], [0, 174, 181]]]"
   ]
  },
  {
   "cell_type": "code",
   "execution_count": 230,
   "metadata": {},
   "outputs": [
    {
     "data": {
      "text/plain": [
       "17"
      ]
     },
     "execution_count": 230,
     "metadata": {},
     "output_type": "execute_result"
    }
   ],
   "source": [
    "len(lst)"
   ]
  },
  {
   "cell_type": "code",
   "execution_count": 231,
   "metadata": {},
   "outputs": [
    {
     "data": {
      "text/plain": [
       "100"
      ]
     },
     "execution_count": 231,
     "metadata": {},
     "output_type": "execute_result"
    }
   ],
   "source": [
    "len(lst[0])"
   ]
  },
  {
   "cell_type": "code",
   "execution_count": 228,
   "metadata": {
    "collapsed": true
   },
   "outputs": [],
   "source": [
    "lst=[[551, 403, 306, 295, 292, 252, 252, 252, 252, 252, 252, 252, 252, 245, 244, 244, 244, 244, 239, 232, 215, 215, 215, 211, 211, 211, 211, 211, 211, 211, 207, 207, 207, 207, 207, 207, 207, 207, 207, 207, 207, 207, 207, 207, 207, 207, 207, 207, 207, 207, 207, 207, 207, 207, 207, 207, 207, 207, 207, 207, 196, 196, 196, 196, 196, 196, 196, 196, 196, 196, 196, 196, 196, 196, 196, 196, 196, 196, 196, 196, 196, 196, 196, 196, 196, 196, 196, 196, 196, 196, 196, 196, 196, 196, 196, 196, 196, 196, 196, 196], [348, 283, 280, 263, 261, 261, 256, 256, 249, 249, 229, 229, 229, 229, 229, 229, 229, 229, 229, 229, 229, 229, 229, 229, 229, 229, 229, 214, 214, 214, 203, 203, 203, 203, 203, 203, 203, 203, 203, 203, 214, 210, 210, 209, 209, 209, 209, 209, 209, 209, 209, 209, 209, 209, 209, 208, 208, 206, 206, 206, 206, 206, 206, 206, 206, 206, 206, 206, 206, 206, 206, 206, 206, 206, 206, 206, 206, 206, 206, 206, 206, 206, 206, 206, 206, 206, 206, 206, 206, 206, 196, 196, 196, 196, 196, 196, 196, 196, 196, 196], [371, 364, 364, 274, 261, 245, 245, 245, 238, 238, 238, 238, 238, 238, 238, 236, 236, 236, 235, 214, 215, 215, 215, 215, 215, 215, 215, 215, 215, 215, 215, 215, 215, 215, 215, 215, 215, 215, 215, 215, 215, 215, 215, 215, 215, 215, 215, 215, 215, 215, 215, 215, 215, 209, 209, 209, 208, 208, 206, 206, 206, 206, 206, 206, 202, 202, 202, 202, 202, 202, 202, 202, 202, 202, 202, 202, 202, 202, 202, 202, 202, 202, 202, 202, 202, 202, 202, 202, 202, 202, 202, 202, 202, 202, 202, 202, 202, 202, 202, 202], [266, 266, 266, 266, 266, 251, 234, 234, 233, 233, 229, 229, 223, 223, 223, 223, 223, 223, 219, 219, 230, 230, 230, 230, 230, 230, 230, 230, 230, 230, 230, 225, 225, 212, 212, 212, 209, 209, 209, 209, 209, 209, 209, 209, 209, 209, 209, 209, 209, 209, 196, 196, 196, 196, 196, 196, 196, 196, 196, 196, 202, 202, 202, 202, 202, 202, 202, 202, 202, 202, 196, 196, 196, 196, 196, 196, 196, 196, 196, 196, 196, 196, 196, 196, 196, 196, 196, 196, 196, 196, 196, 196, 196, 196, 196, 196, 196, 196, 196, 196], [369, 287, 273, 273, 273, 273, 242, 242, 213, 203, 247, 247, 247, 247, 247, 247, 247, 247, 247, 247, 247, 247, 247, 246, 246, 246, 246, 246, 246, 234, 203, 203, 203, 203, 203, 203, 203, 203, 203, 203, 209, 209, 209, 209, 209, 209, 209, 203, 200, 196, 206, 206, 206, 206, 206, 206, 206, 206, 206, 206, 206, 206, 206, 206, 206, 206, 206, 206, 206, 206, 206, 206, 206, 206, 206, 206, 206, 206, 206, 206, 206, 206, 273, 235, 206, 206, 206, 206, 206, 206, 196, 196, 196, 196, 196, 196, 199, 199, 199, 199], [491, 469, 251, 251, 248, 248, 248, 238, 238, 238, 238, 238, 235, 235, 235, 235, 235, 235, 235, 235, 231, 231, 231, 231, 231, 231, 231, 231, 231, 224, 224, 224, 224, 224, 224, 224, 224, 224, 224, 224, 218, 218, 218, 217, 216, 216, 216, 216, 216, 216, 216, 215, 215, 215, 215, 215, 215, 215, 215, 215, 215, 215, 202, 202, 201, 201, 201, 201, 201, 201, 201, 199, 199, 199, 199, 199, 199, 199, 199, 199, 199, 199, 199, 199, 199, 199, 199, 199, 199, 199, 199, 199, 199, 199, 197, 197, 197, 197, 197, 197], [264, 244, 232, 232, 232, 232, 232, 230, 230, 230, 230, 230, 230, 230, 230, 230, 230, 230, 230, 230, 230, 229, 229, 229, 229, 222, 222, 222, 222, 221, 221, 221, 221, 216, 216, 216, 216, 216, 216, 216, 216, 216, 216, 216, 216, 214, 214, 214, 214, 214, 196, 196, 196, 196, 196, 196, 196, 196, 196, 196, 206, 206, 206, 206, 206, 206, 206, 206, 206, 199, 199, 199, 199, 196, 196, 196, 196, 196, 196, 196, 207, 207, 207, 207, 207, 207, 204, 204, 190, 190, 198, 198, 190, 190, 190, 190, 190, 190, 190, 190], [338, 296, 267, 267, 245, 245, 245, 245, 244, 244, 244, 244, 240, 237, 237, 237, 236, 236, 236, 236, 236, 236, 221, 221, 221, 221, 221, 221, 221, 221, 221, 221, 221, 221, 221, 221, 221, 221, 221, 221, 221, 221, 221, 221, 221, 221, 221, 221, 221, 221, 197, 197, 196, 196, 196, 196, 196, 196, 196, 196, 196, 196, 196, 196, 196, 196, 196, 196, 196, 196, 201, 201, 201, 201, 201, 201, 201, 201, 201, 201, 201, 201, 201, 201, 198, 198, 198, 198, 198, 198, 198, 198, 198, 198, 198, 198, 198, 198, 198, 198], [273, 273, 273, 271, 265, 261, 261, 261, 253, 234, 234, 234, 234, 234, 234, 234, 234, 234, 234, 234, 234, 234, 234, 234, 234, 234, 234, 234, 234, 217, 217, 217, 217, 217, 217, 217, 217, 217, 217, 217, 197, 197, 197, 197, 197, 197, 197, 197, 197, 196, 224, 224, 224, 224, 224, 224, 224, 224, 224, 224, 196, 196, 196, 196, 196, 196, 196, 196, 196, 196, 196, 196, 196, 196, 196, 196, 196, 196, 196, 196, 196, 196, 196, 196, 196, 196, 196, 196, 196, 196, 220, 208, 208, 202, 202, 202, 202, 202, 202, 202], [373, 290, 274, 252, 252, 252, 252, 252, 252, 252, 252, 252, 252, 241, 241, 241, 231, 225, 225, 225, 215, 215, 215, 215, 215, 215, 215, 215, 215, 215, 215, 201, 201, 201, 201, 201, 201, 201, 201, 201, 206, 206, 206, 206, 206, 206, 206, 206, 206, 206, 206, 206, 206, 206, 206, 206, 206, 206, 206, 206, 206, 206, 206, 206, 206, 206, 206, 206, 206, 206, 196, 196, 196, 196, 196, 196, 196, 196, 196, 196, 196, 196, 196, 196, 196, 196, 196, 196, 196, 196, 196, 196, 196, 196, 196, 196, 196, 196, 196, 196], [269, 269, 256, 256, 236, 236, 236, 236, 236, 236, 236, 230, 230, 230, 230, 230, 230, 230, 230, 230, 230, 230, 230, 225, 225, 225, 225, 222, 222, 222, 220, 218, 218, 214, 214, 214, 211, 209, 209, 209, 209, 209, 209, 209, 209, 209, 209, 209, 209, 209, 209, 209, 209, 209, 209, 206, 206, 206, 206, 206, 206, 206, 206, 206, 206, 206, 206, 206, 206, 206, 206, 206, 206, 206, 206, 206, 206, 206, 206, 206, 206, 206, 206, 206, 206, 206, 206, 206, 206, 206, 206, 206, 206, 206, 206, 206, 206, 206, 206, 203], [369, 292, 258, 258, 258, 258, 258, 258, 258, 258, 223, 223, 223, 223, 223, 223, 223, 219, 219, 219, 218, 218, 218, 218, 218, 215, 215, 215, 215, 215, 215, 215, 215, 215, 215, 215, 215, 215, 215, 215, 215, 215, 215, 215, 215, 215, 215, 210, 210, 206, 206, 206, 206, 206, 206, 206, 206, 206, 206, 206, 206, 206, 206, 206, 206, 206, 206, 206, 206, 206, 206, 206, 206, 206, 201, 201, 201, 201, 201, 201, 201, 201, 201, 201, 201, 201, 201, 201, 201, 201, 196, 196, 196, 196, 196, 196, 196, 196, 196, 196], [369, 309, 268, 235, 211, 211, 211, 211, 211, 211, 244, 244, 244, 242, 242, 237, 237, 237, 237, 237, 228, 228, 228, 228, 225, 225, 225, 225, 225, 225, 225, 225, 223, 223, 223, 223, 223, 223, 212, 212, 197, 196, 196, 196, 196, 196, 196, 196, 196, 196, 202, 202, 202, 202, 202, 202, 202, 202, 202, 202, 202, 201, 201, 201, 201, 201, 201, 201, 201, 201, 201, 201, 201, 201, 196, 196, 196, 196, 196, 196, 196, 196, 196, 196, 193, 193, 193, 193, 193, 193, 201, 201, 201, 201, 201, 201, 201, 201, 201, 201], [584, 301, 288, 263, 263, 259, 246, 246, 246, 246, 246, 246, 246, 246, 246, 246, 230, 230, 230, 224, 217, 217, 217, 217, 217, 217, 217, 217, 214, 213, 209, 209, 209, 209, 209, 209, 209, 209, 209, 209, 209, 209, 209, 209, 209, 209, 209, 209, 209, 209, 209, 209, 209, 209, 209, 209, 209, 209, 209, 209, 209, 206, 206, 206, 206, 206, 206, 206, 206, 206, 196, 196, 196, 196, 196, 196, 196, 196, 196, 196, 198, 198, 198, 198, 198, 198, 198, 198, 198, 198, 198, 198, 198, 198, 198, 198, 198, 198, 198, 198], [299, 260, 260, 260, 260, 260, 260, 260, 260, 260, 244, 244, 244, 244, 244, 244, 244, 244, 230, 230, 230, 230, 230, 230, 230, 230, 230, 227, 227, 225, 225, 225, 225, 225, 225, 222, 222, 222, 222, 222, 222, 222, 222, 218, 217, 216, 216, 216, 216, 216, 216, 216, 216, 216, 215, 215, 215, 215, 215, 215, 196, 196, 196, 196, 196, 196, 196, 196, 196, 196, 196, 196, 196, 196, 196, 196, 196, 196, 196, 196, 203, 203, 203, 203, 203, 203, 200, 200, 200, 200, 200, 200, 200, 200, 200, 200, 200, 200, 200, 200], [273, 263, 230, 223, 223, 223, 223, 223, 223, 223, 229, 229, 229, 229, 229, 229, 229, 229, 223, 223, 223, 223, 223, 223, 222, 222, 222, 222, 222, 222, 203, 203, 203, 203, 203, 203, 203, 203, 203, 203, 203, 203, 203, 203, 203, 203, 203, 203, 203, 203, 203, 196, 196, 196, 196, 196, 196, 196, 196, 196, 201, 201, 201, 201, 201, 201, 201, 201, 201, 201, 201, 201, 201, 201, 201, 201, 201, 201, 201, 201, 196, 196, 196, 196, 196, 196, 196, 196, 196, 196, 196, 196, 196, 196, 196, 196, 196, 196, 196, 196], [352, 273, 273, 260, 243, 223, 223, 223, 223, 223, 260, 242, 225, 225, 225, 225, 225, 225, 225, 225, 225, 225, 218, 218, 218, 214, 214, 214, 214, 214, 207, 207, 207, 207, 207, 207, 207, 207, 207, 207, 197, 197, 197, 197, 197, 197, 197, 197, 197, 197, 197, 196, 196, 196, 196, 196, 196, 196, 196, 196, 196, 196, 196, 196, 196, 196, 196, 196, 196, 196, 206, 206, 206, 206, 206, 206, 206, 206, 206, 206, 206, 206, 206, 206, 206, 206, 283, 228, 212, 211, 211, 206, 206, 206, 206, 206, 206, 206, 206, 206]]\n"
   ]
  },
  {
   "cell_type": "code",
   "execution_count": 233,
   "metadata": {},
   "outputs": [
    {
     "name": "stdout",
     "output_type": "stream",
     "text": [
      "80\n"
     ]
    }
   ],
   "source": [
    "df = pd.DataFrame(lst, columns=['iter%d'%i for i in range(len(lst[0]))], index=['bird%d'%i for i in range(len(lst))]) \n",
    "\n",
    "for i in range(len(lst[0])):\n",
    "    if 198 in df.iloc[:,i].tolist():\n",
    "        print(i)\n",
    "        break"
   ]
  },
  {
   "cell_type": "code",
   "execution_count": 234,
   "metadata": {},
   "outputs": [
    {
     "data": {
      "text/plain": [
       "<matplotlib.axes._subplots.AxesSubplot at 0x26e1a93588>"
      ]
     },
     "execution_count": 234,
     "metadata": {},
     "output_type": "execute_result"
    },
    {
     "data": {
      "image/png": "[encoded data removed]",
      "text/plain": [
       "<matplotlib.figure.Figure at 0x26e1a932e8>"
      ]
     },
     "metadata": {},
     "output_type": "display_data"
    }
   ],
   "source": [
    "(df==198).sum(axis=0)[:].plot()"
   ]
  },
  {
   "cell_type": "code",
   "execution_count": 239,
   "metadata": {},
   "outputs": [
    {
     "data": {
      "text/html": [
       "<div>\n",
       "<style>\n",
       "    .dataframe thead tr:only-child th {\n",
       "        text-align: right;\n",
       "    }\n",
       "\n",
       "    .dataframe thead th {\n",
       "        text-align: left;\n",
       "    }\n",
       "\n",
       "    .dataframe tbody tr th {\n",
       "        vertical-align: top;\n",
       "    }\n",
       "</style>\n",
       "<table border=\"1\" class=\"dataframe\">\n",
       "  <thead>\n",
       "    <tr style=\"text-align: right;\">\n",
       "      <th></th>\n",
       "      <th>iter60</th>\n",
       "      <th>iter61</th>\n",
       "      <th>iter62</th>\n",
       "      <th>iter63</th>\n",
       "      <th>iter64</th>\n",
       "      <th>iter65</th>\n",
       "      <th>iter66</th>\n",
       "      <th>iter67</th>\n",
       "      <th>iter68</th>\n",
       "      <th>iter69</th>\n",
       "      <th>...</th>\n",
       "      <th>iter90</th>\n",
       "      <th>iter91</th>\n",
       "      <th>iter92</th>\n",
       "      <th>iter93</th>\n",
       "      <th>iter94</th>\n",
       "      <th>iter95</th>\n",
       "      <th>iter96</th>\n",
       "      <th>iter97</th>\n",
       "      <th>iter98</th>\n",
       "      <th>iter99</th>\n",
       "    </tr>\n",
       "  </thead>\n",
       "  <tbody>\n",
       "    <tr>\n",
       "      <th>bird0</th>\n",
       "      <td>196</td>\n",
       "      <td>196</td>\n",
       "      <td>196</td>\n",
       "      <td>196</td>\n",
       "      <td>196</td>\n",
       "      <td>196</td>\n",
       "      <td>196</td>\n",
       "      <td>196</td>\n",
       "      <td>196</td>\n",
       "      <td>196</td>\n",
       "      <td>...</td>\n",
       "      <td>196</td>\n",
       "      <td>196</td>\n",
       "      <td>196</td>\n",
       "      <td>196</td>\n",
       "      <td>196</td>\n",
       "      <td>196</td>\n",
       "      <td>196</td>\n",
       "      <td>196</td>\n",
       "      <td>196</td>\n",
       "      <td>196</td>\n",
       "    </tr>\n",
       "    <tr>\n",
       "      <th>bird1</th>\n",
       "      <td>206</td>\n",
       "      <td>206</td>\n",
       "      <td>206</td>\n",
       "      <td>206</td>\n",
       "      <td>206</td>\n",
       "      <td>206</td>\n",
       "      <td>206</td>\n",
       "      <td>206</td>\n",
       "      <td>206</td>\n",
       "      <td>206</td>\n",
       "      <td>...</td>\n",
       "      <td>196</td>\n",
       "      <td>196</td>\n",
       "      <td>196</td>\n",
       "      <td>196</td>\n",
       "      <td>196</td>\n",
       "      <td>196</td>\n",
       "      <td>196</td>\n",
       "      <td>196</td>\n",
       "      <td>196</td>\n",
       "      <td>196</td>\n",
       "    </tr>\n",
       "    <tr>\n",
       "      <th>bird2</th>\n",
       "      <td>206</td>\n",
       "      <td>206</td>\n",
       "      <td>206</td>\n",
       "      <td>206</td>\n",
       "      <td>202</td>\n",
       "      <td>202</td>\n",
       "      <td>202</td>\n",
       "      <td>202</td>\n",
       "      <td>202</td>\n",
       "      <td>202</td>\n",
       "      <td>...</td>\n",
       "      <td>202</td>\n",
       "      <td>202</td>\n",
       "      <td>202</td>\n",
       "      <td>202</td>\n",
       "      <td>202</td>\n",
       "      <td>202</td>\n",
       "      <td>202</td>\n",
       "      <td>202</td>\n",
       "      <td>202</td>\n",
       "      <td>202</td>\n",
       "    </tr>\n",
       "    <tr>\n",
       "      <th>bird3</th>\n",
       "      <td>202</td>\n",
       "      <td>202</td>\n",
       "      <td>202</td>\n",
       "      <td>202</td>\n",
       "      <td>202</td>\n",
       "      <td>202</td>\n",
       "      <td>202</td>\n",
       "      <td>202</td>\n",
       "      <td>202</td>\n",
       "      <td>202</td>\n",
       "      <td>...</td>\n",
       "      <td>196</td>\n",
       "      <td>196</td>\n",
       "      <td>196</td>\n",
       "      <td>196</td>\n",
       "      <td>196</td>\n",
       "      <td>196</td>\n",
       "      <td>196</td>\n",
       "      <td>196</td>\n",
       "      <td>196</td>\n",
       "      <td>196</td>\n",
       "    </tr>\n",
       "    <tr>\n",
       "      <th>bird4</th>\n",
       "      <td>206</td>\n",
       "      <td>206</td>\n",
       "      <td>206</td>\n",
       "      <td>206</td>\n",
       "      <td>206</td>\n",
       "      <td>206</td>\n",
       "      <td>206</td>\n",
       "      <td>206</td>\n",
       "      <td>206</td>\n",
       "      <td>206</td>\n",
       "      <td>...</td>\n",
       "      <td>196</td>\n",
       "      <td>196</td>\n",
       "      <td>196</td>\n",
       "      <td>196</td>\n",
       "      <td>196</td>\n",
       "      <td>196</td>\n",
       "      <td>199</td>\n",
       "      <td>199</td>\n",
       "      <td>199</td>\n",
       "      <td>199</td>\n",
       "    </tr>\n",
       "    <tr>\n",
       "      <th>bird5</th>\n",
       "      <td>215</td>\n",
       "      <td>215</td>\n",
       "      <td>202</td>\n",
       "      <td>202</td>\n",
       "      <td>201</td>\n",
       "      <td>201</td>\n",
       "      <td>201</td>\n",
       "      <td>201</td>\n",
       "      <td>201</td>\n",
       "      <td>201</td>\n",
       "      <td>...</td>\n",
       "      <td>199</td>\n",
       "      <td>199</td>\n",
       "      <td>199</td>\n",
       "      <td>199</td>\n",
       "      <td>197</td>\n",
       "      <td>197</td>\n",
       "      <td>197</td>\n",
       "      <td>197</td>\n",
       "      <td>197</td>\n",
       "      <td>197</td>\n",
       "    </tr>\n",
       "    <tr>\n",
       "      <th>bird6</th>\n",
       "      <td>206</td>\n",
       "      <td>206</td>\n",
       "      <td>206</td>\n",
       "      <td>206</td>\n",
       "      <td>206</td>\n",
       "      <td>206</td>\n",
       "      <td>206</td>\n",
       "      <td>206</td>\n",
       "      <td>206</td>\n",
       "      <td>199</td>\n",
       "      <td>...</td>\n",
       "      <td>198</td>\n",
       "      <td>198</td>\n",
       "      <td>190</td>\n",
       "      <td>190</td>\n",
       "      <td>190</td>\n",
       "      <td>190</td>\n",
       "      <td>190</td>\n",
       "      <td>190</td>\n",
       "      <td>190</td>\n",
       "      <td>190</td>\n",
       "    </tr>\n",
       "    <tr>\n",
       "      <th>bird7</th>\n",
       "      <td>196</td>\n",
       "      <td>196</td>\n",
       "      <td>196</td>\n",
       "      <td>196</td>\n",
       "      <td>196</td>\n",
       "      <td>196</td>\n",
       "      <td>196</td>\n",
       "      <td>196</td>\n",
       "      <td>196</td>\n",
       "      <td>196</td>\n",
       "      <td>...</td>\n",
       "      <td>198</td>\n",
       "      <td>198</td>\n",
       "      <td>198</td>\n",
       "      <td>198</td>\n",
       "      <td>198</td>\n",
       "      <td>198</td>\n",
       "      <td>198</td>\n",
       "      <td>198</td>\n",
       "      <td>198</td>\n",
       "      <td>198</td>\n",
       "    </tr>\n",
       "    <tr>\n",
       "      <th>bird8</th>\n",
       "      <td>196</td>\n",
       "      <td>196</td>\n",
       "      <td>196</td>\n",
       "      <td>196</td>\n",
       "      <td>196</td>\n",
       "      <td>196</td>\n",
       "      <td>196</td>\n",
       "      <td>196</td>\n",
       "      <td>196</td>\n",
       "      <td>196</td>\n",
       "      <td>...</td>\n",
       "      <td>220</td>\n",
       "      <td>208</td>\n",
       "      <td>208</td>\n",
       "      <td>202</td>\n",
       "      <td>202</td>\n",
       "      <td>202</td>\n",
       "      <td>202</td>\n",
       "      <td>202</td>\n",
       "      <td>202</td>\n",
       "      <td>202</td>\n",
       "    </tr>\n",
       "    <tr>\n",
       "      <th>bird9</th>\n",
       "      <td>206</td>\n",
       "      <td>206</td>\n",
       "      <td>206</td>\n",
       "      <td>206</td>\n",
       "      <td>206</td>\n",
       "      <td>206</td>\n",
       "      <td>206</td>\n",
       "      <td>206</td>\n",
       "      <td>206</td>\n",
       "      <td>206</td>\n",
       "      <td>...</td>\n",
       "      <td>196</td>\n",
       "      <td>196</td>\n",
       "      <td>196</td>\n",
       "      <td>196</td>\n",
       "      <td>196</td>\n",
       "      <td>196</td>\n",
       "      <td>196</td>\n",
       "      <td>196</td>\n",
       "      <td>196</td>\n",
       "      <td>196</td>\n",
       "    </tr>\n",
       "    <tr>\n",
       "      <th>bird10</th>\n",
       "      <td>206</td>\n",
       "      <td>206</td>\n",
       "      <td>206</td>\n",
       "      <td>206</td>\n",
       "      <td>206</td>\n",
       "      <td>206</td>\n",
       "      <td>206</td>\n",
       "      <td>206</td>\n",
       "      <td>206</td>\n",
       "      <td>206</td>\n",
       "      <td>...</td>\n",
       "      <td>206</td>\n",
       "      <td>206</td>\n",
       "      <td>206</td>\n",
       "      <td>206</td>\n",
       "      <td>206</td>\n",
       "      <td>206</td>\n",
       "      <td>206</td>\n",
       "      <td>206</td>\n",
       "      <td>206</td>\n",
       "      <td>203</td>\n",
       "    </tr>\n",
       "    <tr>\n",
       "      <th>bird11</th>\n",
       "      <td>206</td>\n",
       "      <td>206</td>\n",
       "      <td>206</td>\n",
       "      <td>206</td>\n",
       "      <td>206</td>\n",
       "      <td>206</td>\n",
       "      <td>206</td>\n",
       "      <td>206</td>\n",
       "      <td>206</td>\n",
       "      <td>206</td>\n",
       "      <td>...</td>\n",
       "      <td>196</td>\n",
       "      <td>196</td>\n",
       "      <td>196</td>\n",
       "      <td>196</td>\n",
       "      <td>196</td>\n",
       "      <td>196</td>\n",
       "      <td>196</td>\n",
       "      <td>196</td>\n",
       "      <td>196</td>\n",
       "      <td>196</td>\n",
       "    </tr>\n",
       "    <tr>\n",
       "      <th>bird12</th>\n",
       "      <td>202</td>\n",
       "      <td>201</td>\n",
       "      <td>201</td>\n",
       "      <td>201</td>\n",
       "      <td>201</td>\n",
       "      <td>201</td>\n",
       "      <td>201</td>\n",
       "      <td>201</td>\n",
       "      <td>201</td>\n",
       "      <td>201</td>\n",
       "      <td>...</td>\n",
       "      <td>201</td>\n",
       "      <td>201</td>\n",
       "      <td>201</td>\n",
       "      <td>201</td>\n",
       "      <td>201</td>\n",
       "      <td>201</td>\n",
       "      <td>201</td>\n",
       "      <td>201</td>\n",
       "      <td>201</td>\n",
       "      <td>201</td>\n",
       "    </tr>\n",
       "    <tr>\n",
       "      <th>bird13</th>\n",
       "      <td>209</td>\n",
       "      <td>206</td>\n",
       "      <td>206</td>\n",
       "      <td>206</td>\n",
       "      <td>206</td>\n",
       "      <td>206</td>\n",
       "      <td>206</td>\n",
       "      <td>206</td>\n",
       "      <td>206</td>\n",
       "      <td>206</td>\n",
       "      <td>...</td>\n",
       "      <td>198</td>\n",
       "      <td>198</td>\n",
       "      <td>198</td>\n",
       "      <td>198</td>\n",
       "      <td>198</td>\n",
       "      <td>198</td>\n",
       "      <td>198</td>\n",
       "      <td>198</td>\n",
       "      <td>198</td>\n",
       "      <td>198</td>\n",
       "    </tr>\n",
       "    <tr>\n",
       "      <th>bird14</th>\n",
       "      <td>196</td>\n",
       "      <td>196</td>\n",
       "      <td>196</td>\n",
       "      <td>196</td>\n",
       "      <td>196</td>\n",
       "      <td>196</td>\n",
       "      <td>196</td>\n",
       "      <td>196</td>\n",
       "      <td>196</td>\n",
       "      <td>196</td>\n",
       "      <td>...</td>\n",
       "      <td>200</td>\n",
       "      <td>200</td>\n",
       "      <td>200</td>\n",
       "      <td>200</td>\n",
       "      <td>200</td>\n",
       "      <td>200</td>\n",
       "      <td>200</td>\n",
       "      <td>200</td>\n",
       "      <td>200</td>\n",
       "      <td>200</td>\n",
       "    </tr>\n",
       "    <tr>\n",
       "      <th>bird15</th>\n",
       "      <td>201</td>\n",
       "      <td>201</td>\n",
       "      <td>201</td>\n",
       "      <td>201</td>\n",
       "      <td>201</td>\n",
       "      <td>201</td>\n",
       "      <td>201</td>\n",
       "      <td>201</td>\n",
       "      <td>201</td>\n",
       "      <td>201</td>\n",
       "      <td>...</td>\n",
       "      <td>196</td>\n",
       "      <td>196</td>\n",
       "      <td>196</td>\n",
       "      <td>196</td>\n",
       "      <td>196</td>\n",
       "      <td>196</td>\n",
       "      <td>196</td>\n",
       "      <td>196</td>\n",
       "      <td>196</td>\n",
       "      <td>196</td>\n",
       "    </tr>\n",
       "    <tr>\n",
       "      <th>bird16</th>\n",
       "      <td>196</td>\n",
       "      <td>196</td>\n",
       "      <td>196</td>\n",
       "      <td>196</td>\n",
       "      <td>196</td>\n",
       "      <td>196</td>\n",
       "      <td>196</td>\n",
       "      <td>196</td>\n",
       "      <td>196</td>\n",
       "      <td>196</td>\n",
       "      <td>...</td>\n",
       "      <td>211</td>\n",
       "      <td>206</td>\n",
       "      <td>206</td>\n",
       "      <td>206</td>\n",
       "      <td>206</td>\n",
       "      <td>206</td>\n",
       "      <td>206</td>\n",
       "      <td>206</td>\n",
       "      <td>206</td>\n",
       "      <td>206</td>\n",
       "    </tr>\n",
       "  </tbody>\n",
       "</table>\n",
       "<p>17 rows × 40 columns</p>\n",
       "</div>"
      ],
      "text/plain": [
       "        iter60  iter61  iter62  iter63  iter64  iter65  iter66  iter67  \\\n",
       "bird0      196     196     196     196     196     196     196     196   \n",
       "bird1      206     206     206     206     206     206     206     206   \n",
       "bird2      206     206     206     206     202     202     202     202   \n",
       "bird3      202     202     202     202     202     202     202     202   \n",
       "bird4      206     206     206     206     206     206     206     206   \n",
       "bird5      215     215     202     202     201     201     201     201   \n",
       "bird6      206     206     206     206     206     206     206     206   \n",
       "bird7      196     196     196     196     196     196     196     196   \n",
       "bird8      196     196     196     196     196     196     196     196   \n",
       "bird9      206     206     206     206     206     206     206     206   \n",
       "bird10     206     206     206     206     206     206     206     206   \n",
       "bird11     206     206     206     206     206     206     206     206   \n",
       "bird12     202     201     201     201     201     201     201     201   \n",
       "bird13     209     206     206     206     206     206     206     206   \n",
       "bird14     196     196     196     196     196     196     196     196   \n",
       "bird15     201     201     201     201     201     201     201     201   \n",
       "bird16     196     196     196     196     196     196     196     196   \n",
       "\n",
       "        iter68  iter69   ...    iter90  iter91  iter92  iter93  iter94  \\\n",
       "bird0      196     196   ...       196     196     196     196     196   \n",
       "bird1      206     206   ...       196     196     196     196     196   \n",
       "bird2      202     202   ...       202     202     202     202     202   \n",
       "bird3      202     202   ...       196     196     196     196     196   \n",
       "bird4      206     206   ...       196     196     196     196     196   \n",
       "bird5      201     201   ...       199     199     199     199     197   \n",
       "bird6      206     199   ...       198     198     190     190     190   \n",
       "bird7      196     196   ...       198     198     198     198     198   \n",
       "bird8      196     196   ...       220     208     208     202     202   \n",
       "bird9      206     206   ...       196     196     196     196     196   \n",
       "bird10     206     206   ...       206     206     206     206     206   \n",
       "bird11     206     206   ...       196     196     196     196     196   \n",
       "bird12     201     201   ...       201     201     201     201     201   \n",
       "bird13     206     206   ...       198     198     198     198     198   \n",
       "bird14     196     196   ...       200     200     200     200     200   \n",
       "bird15     201     201   ...       196     196     196     196     196   \n",
       "bird16     196     196   ...       211     206     206     206     206   \n",
       "\n",
       "        iter95  iter96  iter97  iter98  iter99  \n",
       "bird0      196     196     196     196     196  \n",
       "bird1      196     196     196     196     196  \n",
       "bird2      202     202     202     202     202  \n",
       "bird3      196     196     196     196     196  \n",
       "bird4      196     199     199     199     199  \n",
       "bird5      197     197     197     197     197  \n",
       "bird6      190     190     190     190     190  \n",
       "bird7      198     198     198     198     198  \n",
       "bird8      202     202     202     202     202  \n",
       "bird9      196     196     196     196     196  \n",
       "bird10     206     206     206     206     203  \n",
       "bird11     196     196     196     196     196  \n",
       "bird12     201     201     201     201     201  \n",
       "bird13     198     198     198     198     198  \n",
       "bird14     200     200     200     200     200  \n",
       "bird15     196     196     196     196     196  \n",
       "bird16     206     206     206     206     206  \n",
       "\n",
       "[17 rows x 40 columns]"
      ]
     },
     "execution_count": 239,
     "metadata": {},
     "output_type": "execute_result"
    }
   ],
   "source": [
    "df.iloc[:,60:]"
   ]
  },
  {
   "cell_type": "code",
   "execution_count": null,
   "metadata": {
    "collapsed": true
   },
   "outputs": [],
   "source": [
    "df.index"
   ]
  },
  {
   "cell_type": "code",
   "execution_count": null,
   "metadata": {
    "collapsed": true
   },
   "outputs": [],
   "source": [
    "lst.max()"
   ]
  },
  {
   "cell_type": "code",
   "execution_count": null,
   "metadata": {
    "collapsed": true
   },
   "outputs": [],
   "source": [
    "lst.std()"
   ]
  },
  {
   "cell_type": "code",
   "execution_count": null,
   "metadata": {
    "collapsed": true
   },
   "outputs": [],
   "source": [
    "lst.max()"
   ]
  },
  {
   "cell_type": "code",
   "execution_count": null,
   "metadata": {
    "collapsed": true
   },
   "outputs": [],
   "source": [
    "lst.min()"
   ]
  },
  {
   "cell_type": "code",
   "execution_count": null,
   "metadata": {
    "collapsed": true
   },
   "outputs": [],
   "source": [
    "int(51*0.1)"
   ]
  },
  {
   "cell_type": "code",
   "execution_count": 5,
   "metadata": {
    "collapsed": true
   },
   "outputs": [],
   "source": [
    "def disturbList(lst, disturbNum, maxGap):\n",
    "    \"\"\"\n",
    "    功能：\n",
    "    把输入的列表lst稍微打乱\n",
    "\n",
    "    输入：\n",
    "    lst           输入的列表\n",
    "    disturbNum    打乱的次数，每次打乱都是近距离的swap\n",
    "    maxGap        swap的两点最远的距离\n",
    "\n",
    "    输出：\n",
    "    templst       打乱后的列表\n",
    "\n",
    "    注意：\n",
    "    本函数对于输入列表不做改动，是在输入列表的副本上改动\n",
    "    \"\"\"\n",
    "    templst = copy.deepcopy(lst)\n",
    "    for i in range(disturbNum):\n",
    "        # 随机选择一个位置\n",
    "        pos1 = random.randint(0, len(templst) - 1)\n",
    "        # 找到该位置前后disturbNum个位置的范围\n",
    "        if pos1 - maxGap >= 0:\n",
    "            leftBound = (pos1 - maxGap)\n",
    "        else:\n",
    "            leftBound = 0\n",
    "        if pos1 + maxGap <= len(templst) - 1:\n",
    "            rightBound = pos1 + maxGap\n",
    "        else:\n",
    "            rightBound = len(templst) - 1\n",
    "        # 随机选择上述范围内与pos1不同的另一个位置\n",
    "        pos2 = random.randint(leftBound, rightBound)\n",
    "        # swap\n",
    "        while pos2 == pos1:\n",
    "            pos2 = random.randint(leftBound, rightBound)\n",
    "        # print(pos1, pos2)\n",
    "        # 交换位置\n",
    "        templst[pos1], templst[pos2] = templst[pos2], templst[pos1]\n",
    "    return templst"
   ]
  },
  {
   "cell_type": "code",
   "execution_count": 23,
   "metadata": {
    "collapsed": true
   },
   "outputs": [],
   "source": [
    "def fuzzyVReshape():\n",
    "    \"\"\"\n",
    "    功能：\n",
    "    对pop所有鸟进行模糊排序，构建V字形的领头鸟，左右翼跟随鸟\n",
    "\n",
    "    输出：\n",
    "    领头鸟号\n",
    "    左翼跟随鸟序号,list\n",
    "    右翼跟随鸟序号,list\n",
    "    \"\"\"\n",
    "    # 生成被打乱的排序\n",
    "    indexMakespanDict =dict(zip(list(range(51)), list(range(51))))\n",
    "    sortedIndex = [item[0] for item in sorted(indexMakespanDict.items(), key=lambda x: x[1], reverse=False)]\n",
    "    disturbedIndex = disturbList(sortedIndex, int(51 * 0.2), int(51 * 0.1))\n",
    "    # 安排领头鸟，左右翼跟随鸟\n",
    "    leaderind = disturbedIndex[0]\n",
    "    del disturbedIndex[0]\n",
    "    leftWingind = [disturbedIndex[i] for i in range(51 -1) if i % 2 == 0]\n",
    "    rightWingind = [disturbedIndex[i] for i in range(51 -1) if i % 2 == 1]\n",
    "\n",
    "    return leaderind, leftWingind, rightWingind"
   ]
  },
  {
   "cell_type": "code",
   "execution_count": 22,
   "metadata": {},
   "outputs": [
    {
     "data": {
      "text/plain": [
       "(0,\n",
       " [1,\n",
       "  4,\n",
       "  5,\n",
       "  7,\n",
       "  9,\n",
       "  11,\n",
       "  13,\n",
       "  15,\n",
       "  17,\n",
       "  19,\n",
       "  23,\n",
       "  21,\n",
       "  25,\n",
       "  27,\n",
       "  29,\n",
       "  31,\n",
       "  33,\n",
       "  40,\n",
       "  42,\n",
       "  39,\n",
       "  36,\n",
       "  43,\n",
       "  45,\n",
       "  47,\n",
       "  49],\n",
       " [2,\n",
       "  3,\n",
       "  8,\n",
       "  6,\n",
       "  10,\n",
       "  12,\n",
       "  14,\n",
       "  16,\n",
       "  18,\n",
       "  20,\n",
       "  22,\n",
       "  28,\n",
       "  26,\n",
       "  24,\n",
       "  30,\n",
       "  32,\n",
       "  34,\n",
       "  41,\n",
       "  38,\n",
       "  35,\n",
       "  37,\n",
       "  44,\n",
       "  46,\n",
       "  48,\n",
       "  50])"
      ]
     },
     "execution_count": 22,
     "metadata": {},
     "output_type": "execute_result"
    }
   ],
   "source": [
    "fuzzyVReshape()"
   ]
  },
  {
   "cell_type": "code",
   "execution_count": 6,
   "metadata": {},
   "outputs": [
    {
     "data": {
      "text/plain": [
       "[0,\n",
       " 1,\n",
       " 2,\n",
       " 3,\n",
       " 4,\n",
       " 5,\n",
       " 6,\n",
       " 7,\n",
       " 8,\n",
       " 9,\n",
       " 15,\n",
       " 11,\n",
       " 12,\n",
       " 14,\n",
       " 13,\n",
       " 10,\n",
       " 16,\n",
       " 17,\n",
       " 18,\n",
       " 19,\n",
       " 20,\n",
       " 21,\n",
       " 22,\n",
       " 23,\n",
       " 28,\n",
       " 25,\n",
       " 26,\n",
       " 27,\n",
       " 24,\n",
       " 29,\n",
       " 30,\n",
       " 31,\n",
       " 32,\n",
       " 33,\n",
       " 34,\n",
       " 37,\n",
       " 36,\n",
       " 42,\n",
       " 38,\n",
       " 39,\n",
       " 43,\n",
       " 40,\n",
       " 35,\n",
       " 41,\n",
       " 44,\n",
       " 45,\n",
       " 46,\n",
       " 47,\n",
       " 48,\n",
       " 49,\n",
       " 50]"
      ]
     },
     "execution_count": 6,
     "metadata": {},
     "output_type": "execute_result"
    }
   ],
   "source": [
    "disturbList(list(range(51)), 7, 5 )"
   ]
  },
  {
   "cell_type": "code",
   "execution_count": null,
   "metadata": {
    "collapsed": true
   },
   "outputs": [],
   "source": [
    "list(range(51))"
   ]
  },
  {
   "cell_type": "code",
   "execution_count": 55,
   "metadata": {},
   "outputs": [
    {
     "name": "stdout",
     "output_type": "stream",
     "text": [
      "[[ 1.76405235  0.40015721]\n",
      " [ 0.97873798  2.2408932 ]]\n",
      "[[ 1.86755799 -0.97727788]\n",
      " [ 0.95008842 -0.15135721]]\n"
     ]
    }
   ],
   "source": [
    "np.random.seed(0)\n",
    "x = np.random.randn(2,2)\n",
    "# np.random.seed(0)\n",
    "y = np.random.randn(2,2)\n",
    "print(x)\n",
    "print(y)\n",
    "\n"
   ]
  },
  {
   "cell_type": "code",
   "execution_count": 67,
   "metadata": {},
   "outputs": [
    {
     "name": "stdout",
     "output_type": "stream",
     "text": [
      "[[ 1.76405235  0.40015721]\n",
      " [ 0.97873798  2.2408932 ]]\n",
      "[[ 1.86755799 -0.97727788]\n",
      " [ 0.95008842 -0.15135721]]\n"
     ]
    }
   ],
   "source": [
    "np.random.seed(0)\n",
    "x = np.random.randn(2,2)\n",
    "# np.random.seed(0)\n",
    "y = np.random.randn(2,2)\n",
    "print(x)\n",
    "print(y)"
   ]
  },
  {
   "cell_type": "code",
   "execution_count": 70,
   "metadata": {},
   "outputs": [
    {
     "data": {
      "text/plain": [
       "[9, 8, 5, 3, 3, 2]"
      ]
     },
     "execution_count": 70,
     "metadata": {},
     "output_type": "execute_result"
    }
   ],
   "source": [
    "a=[3,5,8,3,2,9]\n",
    "sorted(a, reverse=True)"
   ]
  },
  {
   "cell_type": "code",
   "execution_count": 71,
   "metadata": {},
   "outputs": [
    {
     "data": {
      "text/plain": [
       "[3, 5, 8, 3, 2, 9]"
      ]
     },
     "execution_count": 71,
     "metadata": {},
     "output_type": "execute_result"
    }
   ],
   "source": [
    "a"
   ]
  },
  {
   "cell_type": "code",
   "execution_count": 73,
   "metadata": {
    "collapsed": true
   },
   "outputs": [],
   "source": [
    "makespanList = [3,5,8,3,2,9]\n",
    "sortedMakespanList = sorted(makespanList, reverse=True)\n",
    "index = makespanList.index(sortedMakespanList[0])"
   ]
  },
  {
   "cell_type": "code",
   "execution_count": 74,
   "metadata": {},
   "outputs": [
    {
     "data": {
      "text/plain": [
       "5"
      ]
     },
     "execution_count": 74,
     "metadata": {},
     "output_type": "execute_result"
    }
   ],
   "source": [
    "index"
   ]
  },
  {
   "cell_type": "code",
   "execution_count": 80,
   "metadata": {},
   "outputs": [
    {
     "data": {
      "text/plain": [
       "[0, 3, 4, 5]"
      ]
     },
     "execution_count": 80,
     "metadata": {},
     "output_type": "execute_result"
    }
   ],
   "source": [
    "selectedJobs = [i for i in range(6) if random.random() < 0.5]\n",
    "selectedJobs"
   ]
  },
  {
   "cell_type": "code",
   "execution_count": 81,
   "metadata": {},
   "outputs": [
    {
     "data": {
      "text/plain": [
       "[1, 2]"
      ]
     },
     "execution_count": 81,
     "metadata": {},
     "output_type": "execute_result"
    }
   ],
   "source": [
    "[i for i in range(6) if i not in selectedJobs]"
   ]
  },
  {
   "cell_type": "code",
   "execution_count": null,
   "metadata": {
    "collapsed": true
   },
   "outputs": [],
   "source": [
    "selectedJobs = [i for i in range(6) if random.random() < p]\n",
    "notSelectedJobs = [i for i in range(6) if i not in selectedJobs]\n",
    "# 将notSelectedJobs在各个vec的位置都找出来\n",
    "indi1Pos = [self.segment2.preferenceCode[vecInd].index(notSelectedJobs[i]) for i in range(len(notSelectedJobs)) for vecInd in range(self.machineNum)]\n"
   ]
  },
  {
   "cell_type": "code",
   "execution_count": 243,
   "metadata": {
    "collapsed": true
   },
   "outputs": [],
   "source": [
    "def disturbList(lst, disturbNum, maxGap):\n",
    "    \"\"\"\n",
    "    功能：\n",
    "    把输入的列表lst稍微打乱\n",
    "\n",
    "    输入：\n",
    "    lst           输入的列表\n",
    "    disturbNum    打乱的次数，每次打乱都是近距离的swap\n",
    "    maxGap        swap的两点最远的距离\n",
    "\n",
    "    输出：\n",
    "    templst       打乱后的列表\n",
    "\n",
    "    注意：\n",
    "    本函数对于输入列表不做改动，是在输入列表的副本上改动\n",
    "    \"\"\"\n",
    "    templst = copy.deepcopy(lst)\n",
    "    for i in range(disturbNum):\n",
    "        # 随机选择一个位置\n",
    "        pos1 = random.randint(0, len(templst) - 1)\n",
    "        # 找到该位置前后disturbNum个位置的范围\n",
    "        if pos1 - maxGap >= 0:\n",
    "            leftBound = (pos1 - maxGap)\n",
    "        else:\n",
    "            leftBound = 0\n",
    "        if pos1 + maxGap <= len(templst) - 1:\n",
    "            rightBound = pos1 + maxGap\n",
    "        else:\n",
    "            rightBound = len(templst) - 1\n",
    "        # 随机选择上述范围内与pos1不同的另一个位置\n",
    "        pos2 = random.randint(leftBound, rightBound)\n",
    "        # swap\n",
    "        while pos2 == pos1:\n",
    "            pos2 = random.randint(leftBound, rightBound)\n",
    "        # print(pos1, pos2)\n",
    "        # 交换位置\n",
    "        templst[pos1], templst[pos2] = templst[pos2], templst[pos1]\n",
    "    return templst"
   ]
  },
  {
   "cell_type": "code",
   "execution_count": 263,
   "metadata": {},
   "outputs": [
    {
     "name": "stdout",
     "output_type": "stream",
     "text": [
      "0\n",
      "[4, 6, 5, 3, 9, 11, 13, 15]\n",
      "[2, 1, 7, 8, 14, 12, 10, 16]\n"
     ]
    }
   ],
   "source": [
    "a=disturbList(list(range(17)), 4, 4)\n",
    "print(a[0])\n",
    "del a[0]\n",
    "print([a[i] for i in range(16) if i%2==0])\n",
    "print([a[i] for i in range(16) if i%2==1])"
   ]
  },
  {
   "cell_type": "code",
   "execution_count": 12,
   "metadata": {},
   "outputs": [
    {
     "data": {
      "text/plain": [
       "0.23529411764705882"
      ]
     },
     "execution_count": 12,
     "metadata": {},
     "output_type": "execute_result"
    }
   ],
   "source": [
    "4/17"
   ]
  },
  {
   "cell_type": "code",
   "execution_count": 254,
   "metadata": {},
   "outputs": [
    {
     "data": {
      "text/plain": [
       "4"
      ]
     },
     "execution_count": 254,
     "metadata": {},
     "output_type": "execute_result"
    }
   ],
   "source": [
    "int(17*0.25)"
   ]
  },
  {
   "cell_type": "code",
   "execution_count": 76,
   "metadata": {
    "collapsed": true
   },
   "outputs": [],
   "source": [
    "hi={185:[1,2,3,4], 184:[3,4,5,6]}"
   ]
  },
  {
   "cell_type": "code",
   "execution_count": 77,
   "metadata": {},
   "outputs": [
    {
     "data": {
      "text/plain": [
       "[1, 2, 3, 4]"
      ]
     },
     "execution_count": 77,
     "metadata": {},
     "output_type": "execute_result"
    }
   ],
   "source": [
    "hi[185]"
   ]
  },
  {
   "cell_type": "code",
   "execution_count": 102,
   "metadata": {},
   "outputs": [
    {
     "data": {
      "text/plain": [
       "{184: [3, 4, 5, 6],\n",
       " 185: [1, 2, 3, 4],\n",
       " 199: [2, 10, [0, 1, 5, 7, 9, 10, 13, 15, 999], [888]]}"
      ]
     },
     "execution_count": 102,
     "metadata": {},
     "output_type": "execute_result"
    }
   ],
   "source": [
    "hi"
   ]
  },
  {
   "cell_type": "code",
   "execution_count": 99,
   "metadata": {},
   "outputs": [],
   "source": [
    "hi[199].append(copy.deepcopy(b))"
   ]
  },
  {
   "cell_type": "code",
   "execution_count": 79,
   "metadata": {
    "collapsed": true
   },
   "outputs": [],
   "source": [
    "a=[5, 0, 1, 9, 7, 10, 13, 15]"
   ]
  },
  {
   "cell_type": "code",
   "execution_count": 81,
   "metadata": {},
   "outputs": [],
   "source": [
    "makespans = []\n",
    "for item in [[1,2],[3,4]]:\n",
    "    makespans.extend(item)\n",
    "makespans = set(makespans)"
   ]
  },
  {
   "cell_type": "code",
   "execution_count": 86,
   "metadata": {},
   "outputs": [],
   "source": [
    "a.sort()"
   ]
  },
  {
   "cell_type": "code",
   "execution_count": 96,
   "metadata": {},
   "outputs": [
    {
     "data": {
      "text/plain": [
       "[0, 1, 5, 7, 9, 10, 13, 15, 999]"
      ]
     },
     "execution_count": 96,
     "metadata": {},
     "output_type": "execute_result"
    }
   ],
   "source": [
    "a"
   ]
  },
  {
   "cell_type": "code",
   "execution_count": 101,
   "metadata": {
    "collapsed": true
   },
   "outputs": [],
   "source": [
    "b.append(999)"
   ]
  },
  {
   "cell_type": "code",
   "execution_count": 98,
   "metadata": {
    "collapsed": true
   },
   "outputs": [],
   "source": [
    "b=[888]"
   ]
  },
  {
   "cell_type": "code",
   "execution_count": 107,
   "metadata": {},
   "outputs": [
    {
     "data": {
      "text/plain": [
       "1.2941176470588236"
      ]
     },
     "execution_count": 107,
     "metadata": {},
     "output_type": "execute_result"
    }
   ],
   "source": [
    "22/17"
   ]
  },
  {
   "cell_type": "code",
   "execution_count": 108,
   "metadata": {},
   "outputs": [
    {
     "data": {
      "text/plain": [
       "4"
      ]
     },
     "execution_count": 108,
     "metadata": {},
     "output_type": "execute_result"
    }
   ],
   "source": [
    "len(hi[199])"
   ]
  },
  {
   "cell_type": "code",
   "execution_count": 112,
   "metadata": {},
   "outputs": [],
   "source": [
    "k = list(hi.keys())"
   ]
  },
  {
   "cell_type": "code",
   "execution_count": 118,
   "metadata": {},
   "outputs": [
    {
     "data": {
      "text/plain": [
       "{185: [1, 2, 3, 4], 199: [2, 10, [0, 1, 5, 7, 9, 10, 13, 15, 999], [888]]}"
      ]
     },
     "execution_count": 118,
     "metadata": {},
     "output_type": "execute_result"
    }
   ],
   "source": [
    "hi"
   ]
  },
  {
   "cell_type": "code",
   "execution_count": 113,
   "metadata": {
    "collapsed": true
   },
   "outputs": [],
   "source": [
    "k.sort()"
   ]
  },
  {
   "cell_type": "code",
   "execution_count": 115,
   "metadata": {},
   "outputs": [
    {
     "data": {
      "text/plain": [
       "[184, 185, 199]"
      ]
     },
     "execution_count": 115,
     "metadata": {},
     "output_type": "execute_result"
    }
   ],
   "source": [
    "sorted(k)"
   ]
  },
  {
   "cell_type": "code",
   "execution_count": 117,
   "metadata": {
    "collapsed": true
   },
   "outputs": [],
   "source": [
    "del hi[184]"
   ]
  },
  {
   "cell_type": "code",
   "execution_count": 189,
   "metadata": {},
   "outputs": [
    {
     "data": {
      "text/plain": [
       "1"
      ]
     },
     "execution_count": 189,
     "metadata": {},
     "output_type": "execute_result"
    }
   ],
   "source": [
    "random.randint(1,1)"
   ]
  },
  {
   "cell_type": "code",
   "execution_count": 126,
   "metadata": {
    "collapsed": true
   },
   "outputs": [],
   "source": [
    "for item in []:\n",
    "    print('111')"
   ]
  },
  {
   "cell_type": "code",
   "execution_count": 130,
   "metadata": {},
   "outputs": [
    {
     "data": {
      "text/plain": [
       "array([4, 5, 3, 0, 1, 2, 6], dtype=int64)"
      ]
     },
     "execution_count": 130,
     "metadata": {},
     "output_type": "execute_result"
    }
   ],
   "source": [
    "np.argsort([3,3,4,2,1,1,8])"
   ]
  },
  {
   "cell_type": "code",
   "execution_count": 128,
   "metadata": {
    "collapsed": true
   },
   "outputs": [],
   "source": [
    "np.argsort?"
   ]
  },
  {
   "cell_type": "code",
   "execution_count": 179,
   "metadata": {
    "collapsed": true
   },
   "outputs": [],
   "source": [
    "def shuffleIndexOfMaxOrMin(mode, inList):\n",
    "    \"\"\"\n",
    "    功能：\n",
    "    求inList中的最大值或最小值所在的index\n",
    "\n",
    "    输入：\n",
    "    mode       可以是'max','min'\n",
    "    inList     输入的序列\n",
    "\n",
    "    输出：\n",
    "    一个index号\n",
    "    \"\"\"\n",
    "    if mode == 'max':\n",
    "        target = max(inList)\n",
    "    elif mode == 'min':\n",
    "        target = min(inList)\n",
    "    cnt = inList.count(target)\n",
    "    tempList = copy.deepcopy(inList)\n",
    "    if cnt > 1:\n",
    "        indexs = []\n",
    "        for i in range(cnt):\n",
    "            indexs.append(tempList.index(target))\n",
    "            tempList[tempList.index(target)] = 9999\n",
    "        # return indexs[random.randint(0, len(indexs) - 1)]\n",
    "        random.shuffle(indexs)\n",
    "        return indexs[0]\n",
    "    else:\n",
    "        return tempList.index(target)"
   ]
  },
  {
   "cell_type": "code",
   "execution_count": 183,
   "metadata": {},
   "outputs": [
    {
     "name": "stdout",
     "output_type": "stream",
     "text": [
      "5\n",
      "5\n",
      "6\n",
      "6\n",
      "5\n",
      "0\n",
      "5\n",
      "0\n",
      "5\n",
      "0\n",
      "6\n",
      "5\n",
      "5\n",
      "0\n",
      "6\n",
      "0\n",
      "5\n",
      "5\n",
      "6\n",
      "0\n"
     ]
    }
   ],
   "source": [
    "for i in range(20):\n",
    "    print(shuffleIndexOfMaxOrMin('min', [1,3,3,4,2,1,1,8]))"
   ]
  },
  {
   "cell_type": "code",
   "execution_count": 177,
   "metadata": {},
   "outputs": [
    {
     "data": {
      "text/plain": [
       "[0, 6, 5]"
      ]
     },
     "execution_count": 177,
     "metadata": {},
     "output_type": "execute_result"
    }
   ],
   "source": [
    "ls = [0,5,6]\n",
    "random.shuffle(ls)\n",
    "ls"
   ]
  },
  {
   "cell_type": "code",
   "execution_count": 192,
   "metadata": {
    "collapsed": true
   },
   "outputs": [],
   "source": [
    "def shuffleIndexOfMaxOrMin(mode, inList):\n",
    "    \"\"\"\n",
    "    功能：\n",
    "    求inList中的最大值或最小值所在的index\n",
    "\n",
    "    输入：\n",
    "    mode       可以是'max','min'\n",
    "    inList     输入的序列\n",
    "\n",
    "    输出：\n",
    "    一个index号\n",
    "    \"\"\"\n",
    "    if mode == 'max':\n",
    "        target = max(inList)\n",
    "    elif mode == 'min':\n",
    "        target = min(inList)\n",
    "    cnt = inList.count(target)\n",
    "    tempList = copy.deepcopy(inList)\n",
    "    if cnt > 1:\n",
    "        indexs = []\n",
    "        for i in range(cnt):\n",
    "            indexs.append(tempList.index(target))\n",
    "            tempList[tempList.index(target)] = 9999\n",
    "        # return indexs[random.randint(0, len(indexs) - 1)]\n",
    "        random.shuffle(indexs)\n",
    "        return indexs[0]\n",
    "    else:\n",
    "        return tempList.index(target)"
   ]
  },
  {
   "cell_type": "code",
   "execution_count": 219,
   "metadata": {
    "collapsed": true
   },
   "outputs": [],
   "source": [
    "def getShuffleBestOrWorstIndexs(mode, makespanList, indNum):\n",
    "    \"\"\"\n",
    "    功能：         找出给定makespanList中最好或者最坏的indNum个个体\n",
    "\n",
    "    输入：\n",
    "    mode           选择模式，可以是'best','worst'\n",
    "    makespanList   list，给定完工时间列表\n",
    "    indNum         要选出多少个\n",
    "\n",
    "    输出：\n",
    "    indexs         一个list，里面是individual在pop中的序号\n",
    "    \"\"\"\n",
    "\n",
    "    indexs = []\n",
    "    temp = copy.deepcopy(makespanList)\n",
    "\n",
    "    if mode == 'best':\n",
    "        Inf = 99999999\n",
    "        for i in range(indNum):\n",
    "            chosenIndex = shuffleIndexOfMaxOrMin('min', temp)\n",
    "            indexs.append(chosenIndex)\n",
    "            temp[chosenIndex] = Inf\n",
    "    elif mode == 'worst':\n",
    "        Inf = 0\n",
    "        for i in range(indNum):\n",
    "            chosenIndex = shuffleIndexOfMaxOrMin('max', temp)\n",
    "            indexs.append(chosenIndex)\n",
    "            temp[chosenIndex] = Inf\n",
    "\n",
    "    return indexs"
   ]
  },
  {
   "cell_type": "code",
   "execution_count": 226,
   "metadata": {},
   "outputs": [
    {
     "data": {
      "text/plain": [
       "[9, 0]"
      ]
     },
     "execution_count": 226,
     "metadata": {},
     "output_type": "execute_result"
    }
   ],
   "source": [
    "getShuffleBestOrWorstIndexs('worst', [8,8,1,3,3,4,2,1,1,8], 2)"
   ]
  },
  {
   "cell_type": "code",
   "execution_count": 240,
   "metadata": {
    "collapsed": true
   },
   "outputs": [],
   "source": []
  },
  {
   "cell_type": "code",
   "execution_count": 241,
   "metadata": {},
   "outputs": [
    {
     "name": "stdout",
     "output_type": "stream",
     "text": [
      "0.8444218515250481\n",
      "0.7579544029403025\n",
      "0.420571580830845\n",
      "0.25891675029296335\n",
      "0.5112747213686085\n",
      "0.4049341374504143\n",
      "0.7837985890347726\n",
      "0.30331272607892745\n",
      "0.4765969541523558\n",
      "0.5833820394550312\n"
     ]
    }
   ],
   "source": [
    "random.seed(0)\n",
    "for i in range(10):\n",
    "    print(random.random())"
   ]
  },
  {
   "cell_type": "code",
   "execution_count": 242,
   "metadata": {},
   "outputs": [
    {
     "name": "stdout",
     "output_type": "stream",
     "text": [
      "0.8444218515250481\n",
      "0.7579544029403025\n",
      "0.420571580830845\n",
      "0.25891675029296335\n",
      "0.5112747213686085\n",
      "0.4049341374504143\n",
      "0.7837985890347726\n",
      "0.30331272607892745\n",
      "0.4765969541523558\n",
      "0.5833820394550312\n"
     ]
    }
   ],
   "source": [
    "random.seed(0)\n",
    "for i in range(10):\n",
    "    print(random.random())"
   ]
  },
  {
   "cell_type": "code",
   "execution_count": null,
   "metadata": {
    "collapsed": true
   },
   "outputs": [],
   "source": []
  }
 ],
 "metadata": {
  "kernelspec": {
   "display_name": "Python 3",
   "language": "python",
   "name": "python3"
  },
  "language_info": {
   "codemirror_mode": {
    "name": "ipython",
    "version": 3
   },
   "file_extension": ".py",
   "mimetype": "text/x-python",
   "name": "python",
   "nbconvert_exporter": "python",
   "pygments_lexer": "ipython3",
   "version": "3.6.3"
  }
 },
 "nbformat": 4,
 "nbformat_minor": 2
}
