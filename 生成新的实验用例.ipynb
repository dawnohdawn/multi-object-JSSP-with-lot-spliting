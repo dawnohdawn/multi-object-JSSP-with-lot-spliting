{
 "cells": [
  {
   "cell_type": "code",
   "execution_count": 86,
   "metadata": {
    "collapsed": true
   },
   "outputs": [],
   "source": [
    "import random\n",
    "import copy\n",
    "import numpy as np"
   ]
  },
  {
   "cell_type": "code",
   "execution_count": 79,
   "metadata": {
    "collapsed": true
   },
   "outputs": [],
   "source": [
    "lotNum = 4\n",
    "machineNum = 6\n",
    "operationNum = 3\n",
    "maxOperationTime = 8\n",
    "OFI = 0.8\n",
    "maxPreparingTime = 4\n",
    "\n",
    "\n",
    "timeMatrix = []"
   ]
  },
  {
   "cell_type": "code",
   "execution_count": 80,
   "metadata": {
    "collapsed": true
   },
   "outputs": [],
   "source": [
    "timeMatrix = []\n",
    "for i in range(lotNum):\n",
    "    tempLot = []\n",
    "    for j in range(operationNum):\n",
    "        tempOperation = {}\n",
    "        for m in range(machineNum):\n",
    "            if random.random() < OFI:\n",
    "                tempOperation[m] = random.randint(1, maxOperationTime)\n",
    "        if len(tempOperation) == 0:\n",
    "            tempOperation[random.randint(0, machineNum - 1)] = random.randint(1, maxOperationTime)\n",
    "        tempLot.append(tempOperation)\n",
    "    timeMatrix.append(tempLot)"
   ]
  },
  {
   "cell_type": "code",
   "execution_count": 81,
   "metadata": {},
   "outputs": [
    {
     "data": {
      "text/plain": [
       "[[{0: 2, 1: 4, 2: 4, 4: 1},\n",
       "  {0: 3, 1: 5, 2: 4, 4: 5},\n",
       "  {2: 6, 3: 2, 4: 5, 5: 6}],\n",
       " [{1: 2, 2: 1, 3: 1, 4: 4, 5: 2}, {0: 3, 4: 7, 5: 6}, {1: 1, 2: 7, 4: 2}],\n",
       " [{0: 7, 3: 7, 4: 8, 5: 7},\n",
       "  {1: 1, 2: 5, 5: 7},\n",
       "  {0: 5, 1: 7, 2: 3, 3: 4, 5: 8}],\n",
       " [{1: 6, 2: 7, 3: 2, 4: 2},\n",
       "  {0: 1, 1: 1, 3: 8, 4: 7, 5: 2},\n",
       "  {0: 7, 1: 1, 2: 6, 4: 8, 5: 8}]]"
      ]
     },
     "execution_count": 81,
     "metadata": {},
     "output_type": "execute_result"
    }
   ],
   "source": [
    "timeMatrix"
   ]
  },
  {
   "cell_type": "code",
   "execution_count": 82,
   "metadata": {
    "collapsed": true
   },
   "outputs": [],
   "source": [
    "preparingTimeMatrix = copy.deepcopy(timeMatrix)\n",
    "for i in range(lotNum):\n",
    "    for j in range(operationNum):\n",
    "        for key in list(preparingTimeMatrix[i][j].keys()):\n",
    "            preparingTimeMatrix[i][j][key] = random.randint(1, maxPreparingTime)"
   ]
  },
  {
   "cell_type": "code",
   "execution_count": 83,
   "metadata": {},
   "outputs": [
    {
     "data": {
      "text/plain": [
       "[[{0: 1, 1: 4, 2: 3, 4: 3},\n",
       "  {0: 3, 1: 2, 2: 1, 4: 4},\n",
       "  {2: 1, 3: 3, 4: 2, 5: 1}],\n",
       " [{1: 1, 2: 3, 3: 4, 4: 1, 5: 2}, {0: 2, 4: 3, 5: 4}, {1: 1, 2: 2, 4: 2}],\n",
       " [{0: 4, 3: 4, 4: 3, 5: 2},\n",
       "  {1: 3, 2: 1, 5: 2},\n",
       "  {0: 4, 1: 4, 2: 2, 3: 4, 5: 2}],\n",
       " [{1: 1, 2: 1, 3: 3, 4: 4},\n",
       "  {0: 4, 1: 1, 3: 2, 4: 1, 5: 4},\n",
       "  {0: 4, 1: 1, 2: 2, 4: 3, 5: 3}]]"
      ]
     },
     "execution_count": 83,
     "metadata": {},
     "output_type": "execute_result"
    }
   ],
   "source": [
    "preparingTimeMatrix"
   ]
  },
  {
   "cell_type": "code",
   "execution_count": 41,
   "metadata": {},
   "outputs": [
    {
     "data": {
      "text/plain": [
       "2.25"
      ]
     },
     "execution_count": 41,
     "metadata": {},
     "output_type": "execute_result"
    }
   ],
   "source": [
    "sum([sum(lst) for lst in [[len(item) for item in timeMatrix[i]] for i in range(lotNum)]]) / (lotNum * operationNum)"
   ]
  },
  {
   "cell_type": "code",
   "execution_count": 42,
   "metadata": {},
   "outputs": [
    {
     "data": {
      "text/plain": [
       "27"
      ]
     },
     "execution_count": 42,
     "metadata": {},
     "output_type": "execute_result"
    }
   ],
   "source": [
    "sum([sum(lst) for lst in [[len(item) for item in timeMatrix[i]] for i in range(lotNum)]])"
   ]
  },
  {
   "cell_type": "code",
   "execution_count": 43,
   "metadata": {},
   "outputs": [
    {
     "data": {
      "text/plain": [
       "12"
      ]
     },
     "execution_count": 43,
     "metadata": {},
     "output_type": "execute_result"
    }
   ],
   "source": [
    "lotNum * operationNum"
   ]
  },
  {
   "cell_type": "code",
   "execution_count": null,
   "metadata": {
    "collapsed": true
   },
   "outputs": [],
   "source": [
    "[[{1: 3, 3: 1}, {0: 4, 3: 1}, {0: 3}],\n",
    " [{0: 5, 3: 4}, {0: 2, 1: 4}, {1: 3}],\n",
    " [{1: 4, 2: 2}, {3: 2}, {0: 3, 1: 1}],\n",
    " [{1: 5, 3: 1}, {3: 1}, {1: 5, 3: 4}]]\n",
    "\n"
   ]
  },
  {
   "cell_type": "code",
   "execution_count": 60,
   "metadata": {},
   "outputs": [
    {
     "data": {
      "text/plain": [
       "dict_keys([0, 1, 3, 4, 5])"
      ]
     },
     "execution_count": 60,
     "metadata": {},
     "output_type": "execute_result"
    }
   ],
   "source": [
    "timeMatrix[0][0].keys()"
   ]
  },
  {
   "cell_type": "code",
   "execution_count": null,
   "metadata": {
    "collapsed": true
   },
   "outputs": [],
   "source": []
  },
  {
   "cell_type": "code",
   "execution_count": null,
   "metadata": {
    "collapsed": true
   },
   "outputs": [],
   "source": []
  },
  {
   "cell_type": "code",
   "execution_count": 95,
   "metadata": {},
   "outputs": [],
   "source": [
    "a=np.array([377, 378, 375, 376, 373, 373, 376, 374, 373, 378])"
   ]
  },
  {
   "cell_type": "code",
   "execution_count": 96,
   "metadata": {},
   "outputs": [
    {
     "data": {
      "text/plain": [
       "375.30000000000001"
      ]
     },
     "execution_count": 96,
     "metadata": {},
     "output_type": "execute_result"
    }
   ],
   "source": [
    "a.mean()"
   ]
  },
  {
   "cell_type": "code",
   "execution_count": null,
   "metadata": {
    "collapsed": true
   },
   "outputs": [],
   "source": []
  }
 ],
 "metadata": {
  "kernelspec": {
   "display_name": "Python 3",
   "language": "python",
   "name": "python3"
  },
  "language_info": {
   "codemirror_mode": {
    "name": "ipython",
    "version": 3
   },
   "file_extension": ".py",
   "mimetype": "text/x-python",
   "name": "python",
   "nbconvert_exporter": "python",
   "pygments_lexer": "ipython3",
   "version": "3.6.3"
  }
 },
 "nbformat": 4,
 "nbformat_minor": 2
}
